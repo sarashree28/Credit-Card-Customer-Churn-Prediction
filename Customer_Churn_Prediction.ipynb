{
  "metadata": {
    "kernelspec": {
      "language": "python",
      "display_name": "Python 3",
      "name": "python3"
    },
    "language_info": {
      "name": "python",
      "version": "3.10.14",
      "mimetype": "text/x-python",
      "codemirror_mode": {
        "name": "ipython",
        "version": 3
      },
      "pygments_lexer": "ipython3",
      "nbconvert_exporter": "python",
      "file_extension": ".py"
    },
    "kaggle": {
      "accelerator": "none",
      "dataSources": [
        {
          "sourceId": 1481789,
          "sourceType": "datasetVersion",
          "datasetId": 869651
        }
      ],
      "dockerImageVersionId": 30761,
      "isInternetEnabled": true,
      "language": "python",
      "sourceType": "notebook",
      "isGpuEnabled": false
    },
    "colab": {
      "name": "Customer Churn Prediction",
      "provenance": [],
      "include_colab_link": true
    }
  },
  "nbformat_minor": 0,
  "nbformat": 4,
  "cells": [
    {
      "cell_type": "markdown",
      "metadata": {
        "id": "view-in-github",
        "colab_type": "text"
      },
      "source": [
        "<a href=\"https://colab.research.google.com/github/sarashree28/Credit-Card-Customer-Churn-Prediction/blob/main/Customer_Churn_Prediction.ipynb\" target=\"_parent\"><img src=\"https://colab.research.google.com/assets/colab-badge.svg\" alt=\"Open In Colab\"/></a>"
      ]
    },
    {
      "source": [
        "\n",
        "# IMPORTANT: RUN THIS CELL IN ORDER TO IMPORT YOUR KAGGLE DATA SOURCES\n",
        "# TO THE CORRECT LOCATION (/kaggle/input) IN YOUR NOTEBOOK,\n",
        "# THEN FEEL FREE TO DELETE THIS CELL.\n",
        "# NOTE: THIS NOTEBOOK ENVIRONMENT DIFFERS FROM KAGGLE'S PYTHON\n",
        "# ENVIRONMENT SO THERE MAY BE MISSING LIBRARIES USED BY YOUR\n",
        "# NOTEBOOK.\n",
        "\n",
        "import os\n",
        "import sys\n",
        "from tempfile import NamedTemporaryFile\n",
        "from urllib.request import urlopen\n",
        "from urllib.parse import unquote, urlparse\n",
        "from urllib.error import HTTPError\n",
        "from zipfile import ZipFile\n",
        "import tarfile\n",
        "import shutil\n",
        "\n",
        "CHUNK_SIZE = 40960\n",
        "DATA_SOURCE_MAPPING = 'credit-card-customer-churn-prediction:https%3A%2F%2Fstorage.googleapis.com%2Fkaggle-data-sets%2F869651%2F1481789%2Fbundle%2Farchive.zip%3FX-Goog-Algorithm%3DGOOG4-RSA-SHA256%26X-Goog-Credential%3Dgcp-kaggle-com%2540kaggle-161607.iam.gserviceaccount.com%252F20240902%252Fauto%252Fstorage%252Fgoog4_request%26X-Goog-Date%3D20240902T180652Z%26X-Goog-Expires%3D259200%26X-Goog-SignedHeaders%3Dhost%26X-Goog-Signature%3D9779ca61310a8f5e71b4b8384d99af7467ad9a2c89db1f048fda0853451c75e106368d859e206dd0f98a46f3e6282c1fcafca1bd32c0dc4e8d7ab7fab1d984abbf5f36e90eb73c8b9b103b000c52e4e2d2edcf70b0a9ae93132823b75219428daf3ab368b57bcabb7ddac66b4e9d3b9f0f9078578ced63862ed84fea93cb70dcb3be9790ab57ff9b57c325550ab053c311a1ff058ca909e132dd77bc8b370763f0c24f26c8749b8f394f15d531dc7e283c3131f312bcc4ae10571ffd0b2728f369e842f8cce28584a4296fa0f9b956f52dd99be6d0bece59507a6606dec8624b824647730a6848a37aebacaf858f5706a07cb43ff6b30f4d0ee51bfe8e95636e'\n",
        "\n",
        "KAGGLE_INPUT_PATH='/kaggle/input'\n",
        "KAGGLE_WORKING_PATH='/kaggle/working'\n",
        "KAGGLE_SYMLINK='kaggle'\n",
        "\n",
        "!umount /kaggle/input/ 2> /dev/null\n",
        "shutil.rmtree('/kaggle/input', ignore_errors=True)\n",
        "os.makedirs(KAGGLE_INPUT_PATH, 0o777, exist_ok=True)\n",
        "os.makedirs(KAGGLE_WORKING_PATH, 0o777, exist_ok=True)\n",
        "\n",
        "try:\n",
        "  os.symlink(KAGGLE_INPUT_PATH, os.path.join(\"..\", 'input'), target_is_directory=True)\n",
        "except FileExistsError:\n",
        "  pass\n",
        "try:\n",
        "  os.symlink(KAGGLE_WORKING_PATH, os.path.join(\"..\", 'working'), target_is_directory=True)\n",
        "except FileExistsError:\n",
        "  pass\n",
        "\n",
        "for data_source_mapping in DATA_SOURCE_MAPPING.split(','):\n",
        "    directory, download_url_encoded = data_source_mapping.split(':')\n",
        "    download_url = unquote(download_url_encoded)\n",
        "    filename = urlparse(download_url).path\n",
        "    destination_path = os.path.join(KAGGLE_INPUT_PATH, directory)\n",
        "    try:\n",
        "        with urlopen(download_url) as fileres, NamedTemporaryFile() as tfile:\n",
        "            total_length = fileres.headers['content-length']\n",
        "            print(f'Downloading {directory}, {total_length} bytes compressed')\n",
        "            dl = 0\n",
        "            data = fileres.read(CHUNK_SIZE)\n",
        "            while len(data) > 0:\n",
        "                dl += len(data)\n",
        "                tfile.write(data)\n",
        "                done = int(50 * dl / int(total_length))\n",
        "                sys.stdout.write(f\"\\r[{'=' * done}{' ' * (50-done)}] {dl} bytes downloaded\")\n",
        "                sys.stdout.flush()\n",
        "                data = fileres.read(CHUNK_SIZE)\n",
        "            if filename.endswith('.zip'):\n",
        "              with ZipFile(tfile) as zfile:\n",
        "                zfile.extractall(destination_path)\n",
        "            else:\n",
        "              with tarfile.open(tfile.name) as tarfile:\n",
        "                tarfile.extractall(destination_path)\n",
        "            print(f'\\nDownloaded and uncompressed: {directory}')\n",
        "    except HTTPError as e:\n",
        "        print(f'Failed to load (likely expired) {download_url} to path {destination_path}')\n",
        "        continue\n",
        "    except OSError as e:\n",
        "        print(f'Failed to load {download_url} to path {destination_path}')\n",
        "        continue\n",
        "\n",
        "print('Data source import complete.')\n"
      ],
      "metadata": {
        "id": "cN2IInYT6ynk"
      },
      "cell_type": "code",
      "outputs": [],
      "execution_count": null
    },
    {
      "cell_type": "code",
      "source": [
        "# This Python 3 environment comes with many helpful analytics libraries installed\n",
        "# It is defined by the kaggle/python Docker image: https://github.com/kaggle/docker-python\n",
        "# For example, here's several helpful packages to load\n",
        "\n",
        "import numpy as np # linear algebra\n",
        "import pandas as pd # data processing, CSV file I/O (e.g. pd.read_csv)\n",
        "\n",
        "# Input data files are available in the read-only \"../input/\" directory\n",
        "# For example, running this (by clicking run or pressing Shift+Enter) will list all files under the input directory\n",
        "\n",
        "import os\n",
        "for dirname, _, filenames in os.walk('/kaggle/input'):\n",
        "    for filename in filenames:\n",
        "        print(os.path.join(dirname, filename))\n",
        "\n",
        "# You can write up to 20GB to the current directory (/kaggle/working/) that gets preserved as output when you create a version using \"Save & Run All\"\n",
        "# You can also write temporary files to /kaggle/temp/, but they won't be saved outside of the current session"
      ],
      "metadata": {
        "_uuid": "8f2839f25d086af736a60e9eeb907d3b93b6e0e5",
        "_cell_guid": "b1076dfc-b9ad-4769-8c92-a6c4dae69d19",
        "execution": {
          "iopub.status.busy": "2024-09-02T17:26:42.788364Z",
          "iopub.execute_input": "2024-09-02T17:26:42.789441Z",
          "iopub.status.idle": "2024-09-02T17:26:42.799279Z",
          "shell.execute_reply.started": "2024-09-02T17:26:42.789391Z",
          "shell.execute_reply": "2024-09-02T17:26:42.798056Z"
        },
        "trusted": true,
        "id": "FBJVQ4RV6ynm",
        "outputId": "9a62df4e-302e-4c26-f9c8-ed8f05bb8fd6"
      },
      "execution_count": null,
      "outputs": [
        {
          "name": "stdout",
          "text": "/kaggle/input/credit-card-customer-churn-prediction/Churn_Modelling.csv\n",
          "output_type": "stream"
        }
      ]
    },
    {
      "cell_type": "code",
      "source": [
        "df = pd.read_csv('/kaggle/input/credit-card-customer-churn-prediction/Churn_Modelling.csv')"
      ],
      "metadata": {
        "execution": {
          "iopub.status.busy": "2024-09-02T17:26:44.152893Z",
          "iopub.execute_input": "2024-09-02T17:26:44.153306Z",
          "iopub.status.idle": "2024-09-02T17:26:44.18161Z",
          "shell.execute_reply.started": "2024-09-02T17:26:44.153268Z",
          "shell.execute_reply": "2024-09-02T17:26:44.180669Z"
        },
        "trusted": true,
        "id": "_J133-dy6ynn"
      },
      "execution_count": null,
      "outputs": []
    },
    {
      "cell_type": "code",
      "source": [
        "df.head()"
      ],
      "metadata": {
        "execution": {
          "iopub.status.busy": "2024-09-02T17:26:45.245177Z",
          "iopub.execute_input": "2024-09-02T17:26:45.245604Z",
          "iopub.status.idle": "2024-09-02T17:26:45.261987Z",
          "shell.execute_reply.started": "2024-09-02T17:26:45.245543Z",
          "shell.execute_reply": "2024-09-02T17:26:45.260702Z"
        },
        "trusted": true,
        "id": "uZ4GvDu-6ynn",
        "outputId": "c0bff8b9-70d7-4db8-a5a2-c1f3391fbe85"
      },
      "execution_count": null,
      "outputs": [
        {
          "execution_count": 115,
          "output_type": "execute_result",
          "data": {
            "text/plain": "   RowNumber  CustomerId   Surname  CreditScore Geography  Gender  Age  \\\n0          1    15634602  Hargrave          619    France  Female   42   \n1          2    15647311      Hill          608     Spain  Female   41   \n2          3    15619304      Onio          502    France  Female   42   \n3          4    15701354      Boni          699    France  Female   39   \n4          5    15737888  Mitchell          850     Spain  Female   43   \n\n   Tenure    Balance  NumOfProducts  HasCrCard  IsActiveMember  \\\n0       2       0.00              1          1               1   \n1       1   83807.86              1          0               1   \n2       8  159660.80              3          1               0   \n3       1       0.00              2          0               0   \n4       2  125510.82              1          1               1   \n\n   EstimatedSalary  Exited  \n0        101348.88       1  \n1        112542.58       0  \n2        113931.57       1  \n3         93826.63       0  \n4         79084.10       0  ",
            "text/html": "<div>\n<style scoped>\n    .dataframe tbody tr th:only-of-type {\n        vertical-align: middle;\n    }\n\n    .dataframe tbody tr th {\n        vertical-align: top;\n    }\n\n    .dataframe thead th {\n        text-align: right;\n    }\n</style>\n<table border=\"1\" class=\"dataframe\">\n  <thead>\n    <tr style=\"text-align: right;\">\n      <th></th>\n      <th>RowNumber</th>\n      <th>CustomerId</th>\n      <th>Surname</th>\n      <th>CreditScore</th>\n      <th>Geography</th>\n      <th>Gender</th>\n      <th>Age</th>\n      <th>Tenure</th>\n      <th>Balance</th>\n      <th>NumOfProducts</th>\n      <th>HasCrCard</th>\n      <th>IsActiveMember</th>\n      <th>EstimatedSalary</th>\n      <th>Exited</th>\n    </tr>\n  </thead>\n  <tbody>\n    <tr>\n      <th>0</th>\n      <td>1</td>\n      <td>15634602</td>\n      <td>Hargrave</td>\n      <td>619</td>\n      <td>France</td>\n      <td>Female</td>\n      <td>42</td>\n      <td>2</td>\n      <td>0.00</td>\n      <td>1</td>\n      <td>1</td>\n      <td>1</td>\n      <td>101348.88</td>\n      <td>1</td>\n    </tr>\n    <tr>\n      <th>1</th>\n      <td>2</td>\n      <td>15647311</td>\n      <td>Hill</td>\n      <td>608</td>\n      <td>Spain</td>\n      <td>Female</td>\n      <td>41</td>\n      <td>1</td>\n      <td>83807.86</td>\n      <td>1</td>\n      <td>0</td>\n      <td>1</td>\n      <td>112542.58</td>\n      <td>0</td>\n    </tr>\n    <tr>\n      <th>2</th>\n      <td>3</td>\n      <td>15619304</td>\n      <td>Onio</td>\n      <td>502</td>\n      <td>France</td>\n      <td>Female</td>\n      <td>42</td>\n      <td>8</td>\n      <td>159660.80</td>\n      <td>3</td>\n      <td>1</td>\n      <td>0</td>\n      <td>113931.57</td>\n      <td>1</td>\n    </tr>\n    <tr>\n      <th>3</th>\n      <td>4</td>\n      <td>15701354</td>\n      <td>Boni</td>\n      <td>699</td>\n      <td>France</td>\n      <td>Female</td>\n      <td>39</td>\n      <td>1</td>\n      <td>0.00</td>\n      <td>2</td>\n      <td>0</td>\n      <td>0</td>\n      <td>93826.63</td>\n      <td>0</td>\n    </tr>\n    <tr>\n      <th>4</th>\n      <td>5</td>\n      <td>15737888</td>\n      <td>Mitchell</td>\n      <td>850</td>\n      <td>Spain</td>\n      <td>Female</td>\n      <td>43</td>\n      <td>2</td>\n      <td>125510.82</td>\n      <td>1</td>\n      <td>1</td>\n      <td>1</td>\n      <td>79084.10</td>\n      <td>0</td>\n    </tr>\n  </tbody>\n</table>\n</div>"
          },
          "metadata": {}
        }
      ]
    },
    {
      "cell_type": "code",
      "source": [
        "print(df.shape)"
      ],
      "metadata": {
        "execution": {
          "iopub.status.busy": "2024-09-02T17:26:46.144826Z",
          "iopub.execute_input": "2024-09-02T17:26:46.14523Z",
          "iopub.status.idle": "2024-09-02T17:26:46.150984Z",
          "shell.execute_reply.started": "2024-09-02T17:26:46.145191Z",
          "shell.execute_reply": "2024-09-02T17:26:46.149809Z"
        },
        "trusted": true,
        "id": "zoLJI0Qq6ynn",
        "outputId": "0b1b7e18-7c9f-45d0-8343-f12f85c340bb"
      },
      "execution_count": null,
      "outputs": [
        {
          "name": "stdout",
          "text": "(10000, 14)\n",
          "output_type": "stream"
        }
      ]
    },
    {
      "cell_type": "code",
      "source": [
        "df.info()"
      ],
      "metadata": {
        "execution": {
          "iopub.status.busy": "2024-09-02T17:26:47.156137Z",
          "iopub.execute_input": "2024-09-02T17:26:47.156567Z",
          "iopub.status.idle": "2024-09-02T17:26:47.170478Z",
          "shell.execute_reply.started": "2024-09-02T17:26:47.156526Z",
          "shell.execute_reply": "2024-09-02T17:26:47.169141Z"
        },
        "trusted": true,
        "id": "4yU8Lsao6yno",
        "outputId": "bfffd959-90f0-45d0-8ea5-563091eec7d1"
      },
      "execution_count": null,
      "outputs": [
        {
          "name": "stdout",
          "text": "<class 'pandas.core.frame.DataFrame'>\nRangeIndex: 10000 entries, 0 to 9999\nData columns (total 14 columns):\n #   Column           Non-Null Count  Dtype  \n---  ------           --------------  -----  \n 0   RowNumber        10000 non-null  int64  \n 1   CustomerId       10000 non-null  int64  \n 2   Surname          10000 non-null  object \n 3   CreditScore      10000 non-null  int64  \n 4   Geography        10000 non-null  object \n 5   Gender           10000 non-null  object \n 6   Age              10000 non-null  int64  \n 7   Tenure           10000 non-null  int64  \n 8   Balance          10000 non-null  float64\n 9   NumOfProducts    10000 non-null  int64  \n 10  HasCrCard        10000 non-null  int64  \n 11  IsActiveMember   10000 non-null  int64  \n 12  EstimatedSalary  10000 non-null  float64\n 13  Exited           10000 non-null  int64  \ndtypes: float64(2), int64(9), object(3)\nmemory usage: 1.1+ MB\n",
          "output_type": "stream"
        }
      ]
    },
    {
      "cell_type": "code",
      "source": [
        "df.duplicated().sum()"
      ],
      "metadata": {
        "execution": {
          "iopub.status.busy": "2024-09-02T17:26:47.922853Z",
          "iopub.execute_input": "2024-09-02T17:26:47.924135Z",
          "iopub.status.idle": "2024-09-02T17:26:47.939351Z",
          "shell.execute_reply.started": "2024-09-02T17:26:47.924087Z",
          "shell.execute_reply": "2024-09-02T17:26:47.938349Z"
        },
        "trusted": true,
        "id": "VRfdbqm36yno",
        "outputId": "bf81cf13-6fe2-4cd7-cf20-a5958c790430"
      },
      "execution_count": null,
      "outputs": [
        {
          "execution_count": 118,
          "output_type": "execute_result",
          "data": {
            "text/plain": "0"
          },
          "metadata": {}
        }
      ]
    },
    {
      "cell_type": "code",
      "source": [
        "df['Exited'].value_counts()"
      ],
      "metadata": {
        "execution": {
          "iopub.status.busy": "2024-09-02T17:26:49.391674Z",
          "iopub.execute_input": "2024-09-02T17:26:49.392096Z",
          "iopub.status.idle": "2024-09-02T17:26:49.400607Z",
          "shell.execute_reply.started": "2024-09-02T17:26:49.392058Z",
          "shell.execute_reply": "2024-09-02T17:26:49.399409Z"
        },
        "trusted": true,
        "id": "DR1y2TCe6ynp",
        "outputId": "efbf223e-ce6b-4993-9e5b-ddee7e4dc897"
      },
      "execution_count": null,
      "outputs": [
        {
          "execution_count": 119,
          "output_type": "execute_result",
          "data": {
            "text/plain": "Exited\n0    7963\n1    2037\nName: count, dtype: int64"
          },
          "metadata": {}
        }
      ]
    },
    {
      "cell_type": "code",
      "source": [
        "df['Geography'].value_counts()"
      ],
      "metadata": {
        "execution": {
          "iopub.status.busy": "2024-09-02T17:26:50.400221Z",
          "iopub.execute_input": "2024-09-02T17:26:50.400655Z",
          "iopub.status.idle": "2024-09-02T17:26:50.410775Z",
          "shell.execute_reply.started": "2024-09-02T17:26:50.400593Z",
          "shell.execute_reply": "2024-09-02T17:26:50.40963Z"
        },
        "trusted": true,
        "id": "Q702RMzp6ynp",
        "outputId": "2c6512b5-4e4a-4472-8d1e-348051939ae2"
      },
      "execution_count": null,
      "outputs": [
        {
          "execution_count": 120,
          "output_type": "execute_result",
          "data": {
            "text/plain": "Geography\nFrance     5014\nGermany    2509\nSpain      2477\nName: count, dtype: int64"
          },
          "metadata": {}
        }
      ]
    },
    {
      "cell_type": "code",
      "source": [
        "df['Gender'].value_counts()"
      ],
      "metadata": {
        "execution": {
          "iopub.status.busy": "2024-09-02T17:26:51.414485Z",
          "iopub.execute_input": "2024-09-02T17:26:51.414923Z",
          "iopub.status.idle": "2024-09-02T17:26:51.424553Z",
          "shell.execute_reply.started": "2024-09-02T17:26:51.414883Z",
          "shell.execute_reply": "2024-09-02T17:26:51.423469Z"
        },
        "trusted": true,
        "id": "bldtwpom6ynq",
        "outputId": "1e3796b3-3c88-4b6b-f2cd-c80f27363d11"
      },
      "execution_count": null,
      "outputs": [
        {
          "execution_count": 121,
          "output_type": "execute_result",
          "data": {
            "text/plain": "Gender\nMale      5457\nFemale    4543\nName: count, dtype: int64"
          },
          "metadata": {}
        }
      ]
    },
    {
      "cell_type": "code",
      "source": [
        "df.drop(columns=['RowNumber', 'CustomerId','Surname'], inplace=True)"
      ],
      "metadata": {
        "execution": {
          "iopub.status.busy": "2024-09-02T17:26:52.211701Z",
          "iopub.execute_input": "2024-09-02T17:26:52.212721Z",
          "iopub.status.idle": "2024-09-02T17:26:52.220359Z",
          "shell.execute_reply.started": "2024-09-02T17:26:52.212675Z",
          "shell.execute_reply": "2024-09-02T17:26:52.218668Z"
        },
        "trusted": true,
        "id": "i6iptvGu6ynq"
      },
      "execution_count": null,
      "outputs": []
    },
    {
      "cell_type": "code",
      "source": [
        "df.head()"
      ],
      "metadata": {
        "execution": {
          "iopub.status.busy": "2024-09-02T17:26:53.259148Z",
          "iopub.execute_input": "2024-09-02T17:26:53.260447Z",
          "iopub.status.idle": "2024-09-02T17:26:53.276289Z",
          "shell.execute_reply.started": "2024-09-02T17:26:53.260387Z",
          "shell.execute_reply": "2024-09-02T17:26:53.274854Z"
        },
        "trusted": true,
        "id": "-X4xM96C6ynr",
        "outputId": "94678351-bf16-4e00-fb53-28cd4eca73c8"
      },
      "execution_count": null,
      "outputs": [
        {
          "execution_count": 123,
          "output_type": "execute_result",
          "data": {
            "text/plain": "   CreditScore Geography  Gender  Age  Tenure    Balance  NumOfProducts  \\\n0          619    France  Female   42       2       0.00              1   \n1          608     Spain  Female   41       1   83807.86              1   \n2          502    France  Female   42       8  159660.80              3   \n3          699    France  Female   39       1       0.00              2   \n4          850     Spain  Female   43       2  125510.82              1   \n\n   HasCrCard  IsActiveMember  EstimatedSalary  Exited  \n0          1               1        101348.88       1  \n1          0               1        112542.58       0  \n2          1               0        113931.57       1  \n3          0               0         93826.63       0  \n4          1               1         79084.10       0  ",
            "text/html": "<div>\n<style scoped>\n    .dataframe tbody tr th:only-of-type {\n        vertical-align: middle;\n    }\n\n    .dataframe tbody tr th {\n        vertical-align: top;\n    }\n\n    .dataframe thead th {\n        text-align: right;\n    }\n</style>\n<table border=\"1\" class=\"dataframe\">\n  <thead>\n    <tr style=\"text-align: right;\">\n      <th></th>\n      <th>CreditScore</th>\n      <th>Geography</th>\n      <th>Gender</th>\n      <th>Age</th>\n      <th>Tenure</th>\n      <th>Balance</th>\n      <th>NumOfProducts</th>\n      <th>HasCrCard</th>\n      <th>IsActiveMember</th>\n      <th>EstimatedSalary</th>\n      <th>Exited</th>\n    </tr>\n  </thead>\n  <tbody>\n    <tr>\n      <th>0</th>\n      <td>619</td>\n      <td>France</td>\n      <td>Female</td>\n      <td>42</td>\n      <td>2</td>\n      <td>0.00</td>\n      <td>1</td>\n      <td>1</td>\n      <td>1</td>\n      <td>101348.88</td>\n      <td>1</td>\n    </tr>\n    <tr>\n      <th>1</th>\n      <td>608</td>\n      <td>Spain</td>\n      <td>Female</td>\n      <td>41</td>\n      <td>1</td>\n      <td>83807.86</td>\n      <td>1</td>\n      <td>0</td>\n      <td>1</td>\n      <td>112542.58</td>\n      <td>0</td>\n    </tr>\n    <tr>\n      <th>2</th>\n      <td>502</td>\n      <td>France</td>\n      <td>Female</td>\n      <td>42</td>\n      <td>8</td>\n      <td>159660.80</td>\n      <td>3</td>\n      <td>1</td>\n      <td>0</td>\n      <td>113931.57</td>\n      <td>1</td>\n    </tr>\n    <tr>\n      <th>3</th>\n      <td>699</td>\n      <td>France</td>\n      <td>Female</td>\n      <td>39</td>\n      <td>1</td>\n      <td>0.00</td>\n      <td>2</td>\n      <td>0</td>\n      <td>0</td>\n      <td>93826.63</td>\n      <td>0</td>\n    </tr>\n    <tr>\n      <th>4</th>\n      <td>850</td>\n      <td>Spain</td>\n      <td>Female</td>\n      <td>43</td>\n      <td>2</td>\n      <td>125510.82</td>\n      <td>1</td>\n      <td>1</td>\n      <td>1</td>\n      <td>79084.10</td>\n      <td>0</td>\n    </tr>\n  </tbody>\n</table>\n</div>"
          },
          "metadata": {}
        }
      ]
    },
    {
      "cell_type": "code",
      "source": [
        "print(df.shape)"
      ],
      "metadata": {
        "execution": {
          "iopub.status.busy": "2024-09-02T17:26:54.254877Z",
          "iopub.execute_input": "2024-09-02T17:26:54.255782Z",
          "iopub.status.idle": "2024-09-02T17:26:54.261003Z",
          "shell.execute_reply.started": "2024-09-02T17:26:54.255722Z",
          "shell.execute_reply": "2024-09-02T17:26:54.259713Z"
        },
        "trusted": true,
        "id": "I6p7syOS6ynr",
        "outputId": "a8a30365-2069-4507-de80-dfbc50d861c1"
      },
      "execution_count": null,
      "outputs": [
        {
          "name": "stdout",
          "text": "(10000, 11)\n",
          "output_type": "stream"
        }
      ]
    },
    {
      "cell_type": "code",
      "source": [
        "df = pd.get_dummies(df, columns=['Geography', 'Gender'], drop_first=True).astype(int)"
      ],
      "metadata": {
        "execution": {
          "iopub.status.busy": "2024-09-02T17:26:56.114411Z",
          "iopub.execute_input": "2024-09-02T17:26:56.115379Z",
          "iopub.status.idle": "2024-09-02T17:26:56.130753Z",
          "shell.execute_reply.started": "2024-09-02T17:26:56.115325Z",
          "shell.execute_reply": "2024-09-02T17:26:56.129577Z"
        },
        "trusted": true,
        "id": "PIwICvzd6ynr"
      },
      "execution_count": null,
      "outputs": []
    },
    {
      "cell_type": "code",
      "source": [
        "df"
      ],
      "metadata": {
        "execution": {
          "iopub.status.busy": "2024-09-02T17:26:58.994416Z",
          "iopub.execute_input": "2024-09-02T17:26:58.994926Z",
          "iopub.status.idle": "2024-09-02T17:26:59.011814Z",
          "shell.execute_reply.started": "2024-09-02T17:26:58.994885Z",
          "shell.execute_reply": "2024-09-02T17:26:59.010721Z"
        },
        "trusted": true,
        "id": "cgIMMYdn6ynr",
        "outputId": "e371587a-2a38-4045-f827-d23815958d01"
      },
      "execution_count": null,
      "outputs": [
        {
          "execution_count": 126,
          "output_type": "execute_result",
          "data": {
            "text/plain": "      CreditScore  Age  Tenure  Balance  NumOfProducts  HasCrCard  \\\n0             619   42       2        0              1          1   \n1             608   41       1    83807              1          0   \n2             502   42       8   159660              3          1   \n3             699   39       1        0              2          0   \n4             850   43       2   125510              1          1   \n...           ...  ...     ...      ...            ...        ...   \n9995          771   39       5        0              2          1   \n9996          516   35      10    57369              1          1   \n9997          709   36       7        0              1          0   \n9998          772   42       3    75075              2          1   \n9999          792   28       4   130142              1          1   \n\n      IsActiveMember  EstimatedSalary  Exited  Geography_Germany  \\\n0                  1           101348       1                  0   \n1                  1           112542       0                  0   \n2                  0           113931       1                  0   \n3                  0            93826       0                  0   \n4                  1            79084       0                  0   \n...              ...              ...     ...                ...   \n9995               0            96270       0                  0   \n9996               1           101699       0                  0   \n9997               1            42085       1                  0   \n9998               0            92888       1                  1   \n9999               0            38190       0                  0   \n\n      Geography_Spain  Gender_Male  \n0                   0            0  \n1                   1            0  \n2                   0            0  \n3                   0            0  \n4                   1            0  \n...               ...          ...  \n9995                0            1  \n9996                0            1  \n9997                0            0  \n9998                0            1  \n9999                0            0  \n\n[10000 rows x 12 columns]",
            "text/html": "<div>\n<style scoped>\n    .dataframe tbody tr th:only-of-type {\n        vertical-align: middle;\n    }\n\n    .dataframe tbody tr th {\n        vertical-align: top;\n    }\n\n    .dataframe thead th {\n        text-align: right;\n    }\n</style>\n<table border=\"1\" class=\"dataframe\">\n  <thead>\n    <tr style=\"text-align: right;\">\n      <th></th>\n      <th>CreditScore</th>\n      <th>Age</th>\n      <th>Tenure</th>\n      <th>Balance</th>\n      <th>NumOfProducts</th>\n      <th>HasCrCard</th>\n      <th>IsActiveMember</th>\n      <th>EstimatedSalary</th>\n      <th>Exited</th>\n      <th>Geography_Germany</th>\n      <th>Geography_Spain</th>\n      <th>Gender_Male</th>\n    </tr>\n  </thead>\n  <tbody>\n    <tr>\n      <th>0</th>\n      <td>619</td>\n      <td>42</td>\n      <td>2</td>\n      <td>0</td>\n      <td>1</td>\n      <td>1</td>\n      <td>1</td>\n      <td>101348</td>\n      <td>1</td>\n      <td>0</td>\n      <td>0</td>\n      <td>0</td>\n    </tr>\n    <tr>\n      <th>1</th>\n      <td>608</td>\n      <td>41</td>\n      <td>1</td>\n      <td>83807</td>\n      <td>1</td>\n      <td>0</td>\n      <td>1</td>\n      <td>112542</td>\n      <td>0</td>\n      <td>0</td>\n      <td>1</td>\n      <td>0</td>\n    </tr>\n    <tr>\n      <th>2</th>\n      <td>502</td>\n      <td>42</td>\n      <td>8</td>\n      <td>159660</td>\n      <td>3</td>\n      <td>1</td>\n      <td>0</td>\n      <td>113931</td>\n      <td>1</td>\n      <td>0</td>\n      <td>0</td>\n      <td>0</td>\n    </tr>\n    <tr>\n      <th>3</th>\n      <td>699</td>\n      <td>39</td>\n      <td>1</td>\n      <td>0</td>\n      <td>2</td>\n      <td>0</td>\n      <td>0</td>\n      <td>93826</td>\n      <td>0</td>\n      <td>0</td>\n      <td>0</td>\n      <td>0</td>\n    </tr>\n    <tr>\n      <th>4</th>\n      <td>850</td>\n      <td>43</td>\n      <td>2</td>\n      <td>125510</td>\n      <td>1</td>\n      <td>1</td>\n      <td>1</td>\n      <td>79084</td>\n      <td>0</td>\n      <td>0</td>\n      <td>1</td>\n      <td>0</td>\n    </tr>\n    <tr>\n      <th>...</th>\n      <td>...</td>\n      <td>...</td>\n      <td>...</td>\n      <td>...</td>\n      <td>...</td>\n      <td>...</td>\n      <td>...</td>\n      <td>...</td>\n      <td>...</td>\n      <td>...</td>\n      <td>...</td>\n      <td>...</td>\n    </tr>\n    <tr>\n      <th>9995</th>\n      <td>771</td>\n      <td>39</td>\n      <td>5</td>\n      <td>0</td>\n      <td>2</td>\n      <td>1</td>\n      <td>0</td>\n      <td>96270</td>\n      <td>0</td>\n      <td>0</td>\n      <td>0</td>\n      <td>1</td>\n    </tr>\n    <tr>\n      <th>9996</th>\n      <td>516</td>\n      <td>35</td>\n      <td>10</td>\n      <td>57369</td>\n      <td>1</td>\n      <td>1</td>\n      <td>1</td>\n      <td>101699</td>\n      <td>0</td>\n      <td>0</td>\n      <td>0</td>\n      <td>1</td>\n    </tr>\n    <tr>\n      <th>9997</th>\n      <td>709</td>\n      <td>36</td>\n      <td>7</td>\n      <td>0</td>\n      <td>1</td>\n      <td>0</td>\n      <td>1</td>\n      <td>42085</td>\n      <td>1</td>\n      <td>0</td>\n      <td>0</td>\n      <td>0</td>\n    </tr>\n    <tr>\n      <th>9998</th>\n      <td>772</td>\n      <td>42</td>\n      <td>3</td>\n      <td>75075</td>\n      <td>2</td>\n      <td>1</td>\n      <td>0</td>\n      <td>92888</td>\n      <td>1</td>\n      <td>1</td>\n      <td>0</td>\n      <td>1</td>\n    </tr>\n    <tr>\n      <th>9999</th>\n      <td>792</td>\n      <td>28</td>\n      <td>4</td>\n      <td>130142</td>\n      <td>1</td>\n      <td>1</td>\n      <td>0</td>\n      <td>38190</td>\n      <td>0</td>\n      <td>0</td>\n      <td>0</td>\n      <td>0</td>\n    </tr>\n  </tbody>\n</table>\n<p>10000 rows × 12 columns</p>\n</div>"
          },
          "metadata": {}
        }
      ]
    },
    {
      "cell_type": "code",
      "source": [
        "X = df.drop(columns=['Exited'])\n",
        "y = df['Exited'].values\n",
        "from sklearn.model_selection import train_test_split\n",
        "X_train, X_test, y_train, y_test = train_test_split(X,y,test_size=0.2, random_state=1)"
      ],
      "metadata": {
        "execution": {
          "iopub.status.busy": "2024-09-02T17:57:40.431042Z",
          "iopub.execute_input": "2024-09-02T17:57:40.431484Z",
          "iopub.status.idle": "2024-09-02T17:57:40.444914Z",
          "shell.execute_reply.started": "2024-09-02T17:57:40.431445Z",
          "shell.execute_reply": "2024-09-02T17:57:40.443682Z"
        },
        "trusted": true,
        "id": "gP13to4J6yns"
      },
      "execution_count": null,
      "outputs": []
    },
    {
      "cell_type": "code",
      "source": [
        "X"
      ],
      "metadata": {
        "execution": {
          "iopub.status.busy": "2024-09-02T17:57:41.978364Z",
          "iopub.execute_input": "2024-09-02T17:57:41.978855Z",
          "iopub.status.idle": "2024-09-02T17:57:41.996594Z",
          "shell.execute_reply.started": "2024-09-02T17:57:41.97881Z",
          "shell.execute_reply": "2024-09-02T17:57:41.995218Z"
        },
        "trusted": true,
        "id": "sc3FRcJs6yns",
        "outputId": "e29aa2ef-280a-40a7-a96d-d1ed4ba1b304"
      },
      "execution_count": null,
      "outputs": [
        {
          "execution_count": 165,
          "output_type": "execute_result",
          "data": {
            "text/plain": "      CreditScore  Age  Tenure  Balance  NumOfProducts  HasCrCard  \\\n0             619   42       2        0              1          1   \n1             608   41       1    83807              1          0   \n2             502   42       8   159660              3          1   \n3             699   39       1        0              2          0   \n4             850   43       2   125510              1          1   \n...           ...  ...     ...      ...            ...        ...   \n9995          771   39       5        0              2          1   \n9996          516   35      10    57369              1          1   \n9997          709   36       7        0              1          0   \n9998          772   42       3    75075              2          1   \n9999          792   28       4   130142              1          1   \n\n      IsActiveMember  EstimatedSalary  Geography_Germany  Geography_Spain  \\\n0                  1           101348                  0                0   \n1                  1           112542                  0                1   \n2                  0           113931                  0                0   \n3                  0            93826                  0                0   \n4                  1            79084                  0                1   \n...              ...              ...                ...              ...   \n9995               0            96270                  0                0   \n9996               1           101699                  0                0   \n9997               1            42085                  0                0   \n9998               0            92888                  1                0   \n9999               0            38190                  0                0   \n\n      Gender_Male  \n0               0  \n1               0  \n2               0  \n3               0  \n4               0  \n...           ...  \n9995            1  \n9996            1  \n9997            0  \n9998            1  \n9999            0  \n\n[10000 rows x 11 columns]",
            "text/html": "<div>\n<style scoped>\n    .dataframe tbody tr th:only-of-type {\n        vertical-align: middle;\n    }\n\n    .dataframe tbody tr th {\n        vertical-align: top;\n    }\n\n    .dataframe thead th {\n        text-align: right;\n    }\n</style>\n<table border=\"1\" class=\"dataframe\">\n  <thead>\n    <tr style=\"text-align: right;\">\n      <th></th>\n      <th>CreditScore</th>\n      <th>Age</th>\n      <th>Tenure</th>\n      <th>Balance</th>\n      <th>NumOfProducts</th>\n      <th>HasCrCard</th>\n      <th>IsActiveMember</th>\n      <th>EstimatedSalary</th>\n      <th>Geography_Germany</th>\n      <th>Geography_Spain</th>\n      <th>Gender_Male</th>\n    </tr>\n  </thead>\n  <tbody>\n    <tr>\n      <th>0</th>\n      <td>619</td>\n      <td>42</td>\n      <td>2</td>\n      <td>0</td>\n      <td>1</td>\n      <td>1</td>\n      <td>1</td>\n      <td>101348</td>\n      <td>0</td>\n      <td>0</td>\n      <td>0</td>\n    </tr>\n    <tr>\n      <th>1</th>\n      <td>608</td>\n      <td>41</td>\n      <td>1</td>\n      <td>83807</td>\n      <td>1</td>\n      <td>0</td>\n      <td>1</td>\n      <td>112542</td>\n      <td>0</td>\n      <td>1</td>\n      <td>0</td>\n    </tr>\n    <tr>\n      <th>2</th>\n      <td>502</td>\n      <td>42</td>\n      <td>8</td>\n      <td>159660</td>\n      <td>3</td>\n      <td>1</td>\n      <td>0</td>\n      <td>113931</td>\n      <td>0</td>\n      <td>0</td>\n      <td>0</td>\n    </tr>\n    <tr>\n      <th>3</th>\n      <td>699</td>\n      <td>39</td>\n      <td>1</td>\n      <td>0</td>\n      <td>2</td>\n      <td>0</td>\n      <td>0</td>\n      <td>93826</td>\n      <td>0</td>\n      <td>0</td>\n      <td>0</td>\n    </tr>\n    <tr>\n      <th>4</th>\n      <td>850</td>\n      <td>43</td>\n      <td>2</td>\n      <td>125510</td>\n      <td>1</td>\n      <td>1</td>\n      <td>1</td>\n      <td>79084</td>\n      <td>0</td>\n      <td>1</td>\n      <td>0</td>\n    </tr>\n    <tr>\n      <th>...</th>\n      <td>...</td>\n      <td>...</td>\n      <td>...</td>\n      <td>...</td>\n      <td>...</td>\n      <td>...</td>\n      <td>...</td>\n      <td>...</td>\n      <td>...</td>\n      <td>...</td>\n      <td>...</td>\n    </tr>\n    <tr>\n      <th>9995</th>\n      <td>771</td>\n      <td>39</td>\n      <td>5</td>\n      <td>0</td>\n      <td>2</td>\n      <td>1</td>\n      <td>0</td>\n      <td>96270</td>\n      <td>0</td>\n      <td>0</td>\n      <td>1</td>\n    </tr>\n    <tr>\n      <th>9996</th>\n      <td>516</td>\n      <td>35</td>\n      <td>10</td>\n      <td>57369</td>\n      <td>1</td>\n      <td>1</td>\n      <td>1</td>\n      <td>101699</td>\n      <td>0</td>\n      <td>0</td>\n      <td>1</td>\n    </tr>\n    <tr>\n      <th>9997</th>\n      <td>709</td>\n      <td>36</td>\n      <td>7</td>\n      <td>0</td>\n      <td>1</td>\n      <td>0</td>\n      <td>1</td>\n      <td>42085</td>\n      <td>0</td>\n      <td>0</td>\n      <td>0</td>\n    </tr>\n    <tr>\n      <th>9998</th>\n      <td>772</td>\n      <td>42</td>\n      <td>3</td>\n      <td>75075</td>\n      <td>2</td>\n      <td>1</td>\n      <td>0</td>\n      <td>92888</td>\n      <td>1</td>\n      <td>0</td>\n      <td>1</td>\n    </tr>\n    <tr>\n      <th>9999</th>\n      <td>792</td>\n      <td>28</td>\n      <td>4</td>\n      <td>130142</td>\n      <td>1</td>\n      <td>1</td>\n      <td>0</td>\n      <td>38190</td>\n      <td>0</td>\n      <td>0</td>\n      <td>0</td>\n    </tr>\n  </tbody>\n</table>\n<p>10000 rows × 11 columns</p>\n</div>"
          },
          "metadata": {}
        }
      ]
    },
    {
      "cell_type": "code",
      "source": [
        "y"
      ],
      "metadata": {
        "execution": {
          "iopub.status.busy": "2024-09-02T17:57:45.044829Z",
          "iopub.execute_input": "2024-09-02T17:57:45.045221Z",
          "iopub.status.idle": "2024-09-02T17:57:45.056076Z",
          "shell.execute_reply.started": "2024-09-02T17:57:45.045186Z",
          "shell.execute_reply": "2024-09-02T17:57:45.051482Z"
        },
        "trusted": true,
        "id": "Wt0nCPFs6yns",
        "outputId": "855a4059-86d4-432c-98f2-89b383bb16b1"
      },
      "execution_count": null,
      "outputs": [
        {
          "execution_count": 166,
          "output_type": "execute_result",
          "data": {
            "text/plain": "array([1, 0, 1, ..., 1, 1, 0])"
          },
          "metadata": {}
        }
      ]
    },
    {
      "cell_type": "code",
      "source": [
        "X_train.shape"
      ],
      "metadata": {
        "execution": {
          "iopub.status.busy": "2024-09-02T17:31:31.006854Z",
          "iopub.execute_input": "2024-09-02T17:31:31.007277Z",
          "iopub.status.idle": "2024-09-02T17:31:31.014843Z",
          "shell.execute_reply.started": "2024-09-02T17:31:31.007238Z",
          "shell.execute_reply": "2024-09-02T17:31:31.013417Z"
        },
        "trusted": true,
        "id": "LN6HOSaG6yns",
        "outputId": "f6e77297-5f1c-4779-f7e8-031903b4afe7"
      },
      "execution_count": null,
      "outputs": [
        {
          "execution_count": 131,
          "output_type": "execute_result",
          "data": {
            "text/plain": "(8000, 11)"
          },
          "metadata": {}
        }
      ]
    },
    {
      "cell_type": "code",
      "source": [
        "X_test.shape"
      ],
      "metadata": {
        "execution": {
          "iopub.status.busy": "2024-09-02T17:31:41.695622Z",
          "iopub.execute_input": "2024-09-02T17:31:41.696377Z",
          "iopub.status.idle": "2024-09-02T17:31:41.703642Z",
          "shell.execute_reply.started": "2024-09-02T17:31:41.696335Z",
          "shell.execute_reply": "2024-09-02T17:31:41.702363Z"
        },
        "trusted": true,
        "id": "g3x3VnUl6yns",
        "outputId": "b24815f7-4648-4408-f019-3046d8f229de"
      },
      "execution_count": null,
      "outputs": [
        {
          "execution_count": 132,
          "output_type": "execute_result",
          "data": {
            "text/plain": "(2000, 11)"
          },
          "metadata": {}
        }
      ]
    },
    {
      "cell_type": "code",
      "source": [
        "from sklearn.preprocessing import StandardScaler\n",
        "scaler = StandardScaler()\n",
        "\n",
        "X_train_trf = scaler.fit_transform(X_train)\n",
        "X_test_trf = scaler.transform(X_test)"
      ],
      "metadata": {
        "execution": {
          "iopub.status.busy": "2024-09-02T17:58:09.6217Z",
          "iopub.execute_input": "2024-09-02T17:58:09.622168Z",
          "iopub.status.idle": "2024-09-02T17:58:09.638524Z",
          "shell.execute_reply.started": "2024-09-02T17:58:09.622126Z",
          "shell.execute_reply": "2024-09-02T17:58:09.637116Z"
        },
        "trusted": true,
        "id": "jq9P-tXn6yns"
      },
      "execution_count": null,
      "outputs": []
    },
    {
      "cell_type": "code",
      "source": [
        "X_train_trf"
      ],
      "metadata": {
        "execution": {
          "iopub.status.busy": "2024-09-02T17:58:14.697457Z",
          "iopub.execute_input": "2024-09-02T17:58:14.697905Z",
          "iopub.status.idle": "2024-09-02T17:58:14.707511Z",
          "shell.execute_reply.started": "2024-09-02T17:58:14.697866Z",
          "shell.execute_reply": "2024-09-02T17:58:14.706107Z"
        },
        "trusted": true,
        "id": "A2bywLZf6ynt",
        "outputId": "71f01e65-9f08-4ebc-ffc9-ff9d1be7c8ec"
      },
      "execution_count": null,
      "outputs": [
        {
          "execution_count": 168,
          "output_type": "execute_result",
          "data": {
            "text/plain": "array([[-0.23082038, -0.94449979, -0.70174202, ...,  1.71490137,\n        -0.57273139,  0.91509065],\n       [-0.25150912, -0.94449979, -0.35520275, ..., -0.58312392,\n        -0.57273139, -1.09278791],\n       [-0.3963303 ,  0.77498705,  0.33787579, ...,  1.71490137,\n        -0.57273139, -1.09278791],\n       ...,\n       [ 0.22433188,  0.58393295,  1.3774936 , ..., -0.58312392,\n        -0.57273139, -1.09278791],\n       [ 0.13123255,  0.01077067,  1.03095433, ..., -0.58312392,\n        -0.57273139, -1.09278791],\n       [ 1.1656695 ,  0.29735181,  0.33787579, ...,  1.71490137,\n        -0.57273139,  0.91509065]])"
          },
          "metadata": {}
        }
      ]
    },
    {
      "cell_type": "code",
      "source": [
        "import tensorflow\n",
        "from tensorflow import keras\n",
        "from tensorflow.keras import Sequential\n",
        "from tensorflow.keras.layers import Dense"
      ],
      "metadata": {
        "execution": {
          "iopub.status.busy": "2024-09-02T17:58:21.931279Z",
          "iopub.execute_input": "2024-09-02T17:58:21.931766Z",
          "iopub.status.idle": "2024-09-02T17:58:21.937675Z",
          "shell.execute_reply.started": "2024-09-02T17:58:21.931703Z",
          "shell.execute_reply": "2024-09-02T17:58:21.936536Z"
        },
        "trusted": true,
        "id": "BhHz2sMy6ynt"
      },
      "execution_count": null,
      "outputs": []
    },
    {
      "cell_type": "code",
      "source": [
        "model = Sequential()\n",
        "\n",
        "model.add(Dense(11,activation= 'sigmoid',input_dim = 11))\n",
        "model.add(Dense(11,activation='sigmoid'))\n",
        "model.add(Dense(1,activation = 'sigmoid'))"
      ],
      "metadata": {
        "execution": {
          "iopub.status.busy": "2024-09-02T17:58:38.736114Z",
          "iopub.execute_input": "2024-09-02T17:58:38.736545Z",
          "iopub.status.idle": "2024-09-02T17:58:38.780566Z",
          "shell.execute_reply.started": "2024-09-02T17:58:38.736505Z",
          "shell.execute_reply": "2024-09-02T17:58:38.779477Z"
        },
        "trusted": true,
        "id": "gqV6o8TP6ynt",
        "outputId": "56132218-2326-4021-e067-de5c2a28dc5d"
      },
      "execution_count": null,
      "outputs": [
        {
          "name": "stderr",
          "text": "/opt/conda/lib/python3.10/site-packages/keras/src/layers/core/dense.py:87: UserWarning: Do not pass an `input_shape`/`input_dim` argument to a layer. When using Sequential models, prefer using an `Input(shape)` object as the first layer in the model instead.\n  super().__init__(activity_regularizer=activity_regularizer, **kwargs)\n",
          "output_type": "stream"
        }
      ]
    },
    {
      "cell_type": "code",
      "source": [
        "model.summary()"
      ],
      "metadata": {
        "execution": {
          "iopub.status.busy": "2024-09-02T17:58:42.70648Z",
          "iopub.execute_input": "2024-09-02T17:58:42.707427Z",
          "iopub.status.idle": "2024-09-02T17:58:42.727815Z",
          "shell.execute_reply.started": "2024-09-02T17:58:42.707382Z",
          "shell.execute_reply": "2024-09-02T17:58:42.726593Z"
        },
        "trusted": true,
        "id": "3BkqZD516ynt",
        "outputId": "faab7315-0a16-4778-ed42-bd1d8bb50eac"
      },
      "execution_count": null,
      "outputs": [
        {
          "output_type": "display_data",
          "data": {
            "text/plain": "\u001b[1mModel: \"sequential_2\"\u001b[0m\n",
            "text/html": "<pre style=\"white-space:pre;overflow-x:auto;line-height:normal;font-family:Menlo,'DejaVu Sans Mono',consolas,'Courier New',monospace\"><span style=\"font-weight: bold\">Model: \"sequential_2\"</span>\n</pre>\n"
          },
          "metadata": {}
        },
        {
          "output_type": "display_data",
          "data": {
            "text/plain": "┏━━━━━━━━━━━━━━━━━━━━━━━━━━━━━━━━━┳━━━━━━━━━━━━━━━━━━━━━━━━┳━━━━━━━━━━━━━━━┓\n┃\u001b[1m \u001b[0m\u001b[1mLayer (type)                   \u001b[0m\u001b[1m \u001b[0m┃\u001b[1m \u001b[0m\u001b[1mOutput Shape          \u001b[0m\u001b[1m \u001b[0m┃\u001b[1m \u001b[0m\u001b[1m      Param #\u001b[0m\u001b[1m \u001b[0m┃\n┡━━━━━━━━━━━━━━━━━━━━━━━━━━━━━━━━━╇━━━━━━━━━━━━━━━━━━━━━━━━╇━━━━━━━━━━━━━━━┩\n│ dense_5 (\u001b[38;5;33mDense\u001b[0m)                 │ (\u001b[38;5;45mNone\u001b[0m, \u001b[38;5;34m11\u001b[0m)             │           \u001b[38;5;34m132\u001b[0m │\n├─────────────────────────────────┼────────────────────────┼───────────────┤\n│ dense_6 (\u001b[38;5;33mDense\u001b[0m)                 │ (\u001b[38;5;45mNone\u001b[0m, \u001b[38;5;34m11\u001b[0m)             │           \u001b[38;5;34m132\u001b[0m │\n├─────────────────────────────────┼────────────────────────┼───────────────┤\n│ dense_7 (\u001b[38;5;33mDense\u001b[0m)                 │ (\u001b[38;5;45mNone\u001b[0m, \u001b[38;5;34m1\u001b[0m)              │            \u001b[38;5;34m12\u001b[0m │\n└─────────────────────────────────┴────────────────────────┴───────────────┘\n",
            "text/html": "<pre style=\"white-space:pre;overflow-x:auto;line-height:normal;font-family:Menlo,'DejaVu Sans Mono',consolas,'Courier New',monospace\">┏━━━━━━━━━━━━━━━━━━━━━━━━━━━━━━━━━┳━━━━━━━━━━━━━━━━━━━━━━━━┳━━━━━━━━━━━━━━━┓\n┃<span style=\"font-weight: bold\"> Layer (type)                    </span>┃<span style=\"font-weight: bold\"> Output Shape           </span>┃<span style=\"font-weight: bold\">       Param # </span>┃\n┡━━━━━━━━━━━━━━━━━━━━━━━━━━━━━━━━━╇━━━━━━━━━━━━━━━━━━━━━━━━╇━━━━━━━━━━━━━━━┩\n│ dense_5 (<span style=\"color: #0087ff; text-decoration-color: #0087ff\">Dense</span>)                 │ (<span style=\"color: #00d7ff; text-decoration-color: #00d7ff\">None</span>, <span style=\"color: #00af00; text-decoration-color: #00af00\">11</span>)             │           <span style=\"color: #00af00; text-decoration-color: #00af00\">132</span> │\n├─────────────────────────────────┼────────────────────────┼───────────────┤\n│ dense_6 (<span style=\"color: #0087ff; text-decoration-color: #0087ff\">Dense</span>)                 │ (<span style=\"color: #00d7ff; text-decoration-color: #00d7ff\">None</span>, <span style=\"color: #00af00; text-decoration-color: #00af00\">11</span>)             │           <span style=\"color: #00af00; text-decoration-color: #00af00\">132</span> │\n├─────────────────────────────────┼────────────────────────┼───────────────┤\n│ dense_7 (<span style=\"color: #0087ff; text-decoration-color: #0087ff\">Dense</span>)                 │ (<span style=\"color: #00d7ff; text-decoration-color: #00d7ff\">None</span>, <span style=\"color: #00af00; text-decoration-color: #00af00\">1</span>)              │            <span style=\"color: #00af00; text-decoration-color: #00af00\">12</span> │\n└─────────────────────────────────┴────────────────────────┴───────────────┘\n</pre>\n"
          },
          "metadata": {}
        },
        {
          "output_type": "display_data",
          "data": {
            "text/plain": "\u001b[1m Total params: \u001b[0m\u001b[38;5;34m276\u001b[0m (1.08 KB)\n",
            "text/html": "<pre style=\"white-space:pre;overflow-x:auto;line-height:normal;font-family:Menlo,'DejaVu Sans Mono',consolas,'Courier New',monospace\"><span style=\"font-weight: bold\"> Total params: </span><span style=\"color: #00af00; text-decoration-color: #00af00\">276</span> (1.08 KB)\n</pre>\n"
          },
          "metadata": {}
        },
        {
          "output_type": "display_data",
          "data": {
            "text/plain": "\u001b[1m Trainable params: \u001b[0m\u001b[38;5;34m276\u001b[0m (1.08 KB)\n",
            "text/html": "<pre style=\"white-space:pre;overflow-x:auto;line-height:normal;font-family:Menlo,'DejaVu Sans Mono',consolas,'Courier New',monospace\"><span style=\"font-weight: bold\"> Trainable params: </span><span style=\"color: #00af00; text-decoration-color: #00af00\">276</span> (1.08 KB)\n</pre>\n"
          },
          "metadata": {}
        },
        {
          "output_type": "display_data",
          "data": {
            "text/plain": "\u001b[1m Non-trainable params: \u001b[0m\u001b[38;5;34m0\u001b[0m (0.00 B)\n",
            "text/html": "<pre style=\"white-space:pre;overflow-x:auto;line-height:normal;font-family:Menlo,'DejaVu Sans Mono',consolas,'Courier New',monospace\"><span style=\"font-weight: bold\"> Non-trainable params: </span><span style=\"color: #00af00; text-decoration-color: #00af00\">0</span> (0.00 B)\n</pre>\n"
          },
          "metadata": {}
        }
      ]
    },
    {
      "cell_type": "code",
      "source": [
        "model.compile(loss='binary_crossentropy',optimizer='Adam',metrics=['accuracy'])"
      ],
      "metadata": {
        "execution": {
          "iopub.status.busy": "2024-09-02T17:58:58.185034Z",
          "iopub.execute_input": "2024-09-02T17:58:58.18546Z",
          "iopub.status.idle": "2024-09-02T17:58:58.197712Z",
          "shell.execute_reply.started": "2024-09-02T17:58:58.185421Z",
          "shell.execute_reply": "2024-09-02T17:58:58.196543Z"
        },
        "trusted": true,
        "id": "292g93W76ynt"
      },
      "execution_count": null,
      "outputs": []
    },
    {
      "cell_type": "code",
      "source": [
        "history = model.fit(X_train, y_train,batch_size = 50, epochs = 100, validation_split=0.2)"
      ],
      "metadata": {
        "execution": {
          "iopub.status.busy": "2024-09-02T17:59:29.173598Z",
          "iopub.execute_input": "2024-09-02T17:59:29.174772Z",
          "iopub.status.idle": "2024-09-02T17:59:55.660042Z",
          "shell.execute_reply.started": "2024-09-02T17:59:29.174698Z",
          "shell.execute_reply": "2024-09-02T17:59:55.658893Z"
        },
        "trusted": true,
        "id": "dUDRYq_E6ynt",
        "outputId": "99371024-7695-41fd-8445-b0f8a91075a0"
      },
      "execution_count": null,
      "outputs": [
        {
          "name": "stdout",
          "text": "Epoch 1/100\n\u001b[1m128/128\u001b[0m \u001b[32m━━━━━━━━━━━━━━━━━━━━\u001b[0m\u001b[37m\u001b[0m \u001b[1m1s\u001b[0m 3ms/step - accuracy: 0.7975 - loss: 0.5053 - val_accuracy: 0.7975 - val_loss: 0.5020\nEpoch 2/100\n\u001b[1m128/128\u001b[0m \u001b[32m━━━━━━━━━━━━━━━━━━━━\u001b[0m\u001b[37m\u001b[0m \u001b[1m0s\u001b[0m 2ms/step - accuracy: 0.7972 - loss: 0.5024 - val_accuracy: 0.7975 - val_loss: 0.4995\nEpoch 3/100\n\u001b[1m128/128\u001b[0m \u001b[32m━━━━━━━━━━━━━━━━━━━━\u001b[0m\u001b[37m\u001b[0m \u001b[1m0s\u001b[0m 2ms/step - accuracy: 0.7942 - loss: 0.5036 - val_accuracy: 0.7975 - val_loss: 0.4987\nEpoch 4/100\n\u001b[1m128/128\u001b[0m \u001b[32m━━━━━━━━━━━━━━━━━━━━\u001b[0m\u001b[37m\u001b[0m \u001b[1m0s\u001b[0m 2ms/step - accuracy: 0.7959 - loss: 0.5018 - val_accuracy: 0.7975 - val_loss: 0.4979\nEpoch 5/100\n\u001b[1m128/128\u001b[0m \u001b[32m━━━━━━━━━━━━━━━━━━━━\u001b[0m\u001b[37m\u001b[0m \u001b[1m0s\u001b[0m 2ms/step - accuracy: 0.7961 - loss: 0.5004 - val_accuracy: 0.7975 - val_loss: 0.4977\nEpoch 6/100\n\u001b[1m128/128\u001b[0m \u001b[32m━━━━━━━━━━━━━━━━━━━━\u001b[0m\u001b[37m\u001b[0m \u001b[1m0s\u001b[0m 2ms/step - accuracy: 0.7964 - loss: 0.4994 - val_accuracy: 0.7975 - val_loss: 0.4972\nEpoch 7/100\n\u001b[1m128/128\u001b[0m \u001b[32m━━━━━━━━━━━━━━━━━━━━\u001b[0m\u001b[37m\u001b[0m \u001b[1m0s\u001b[0m 2ms/step - accuracy: 0.7962 - loss: 0.4996 - val_accuracy: 0.7975 - val_loss: 0.4966\nEpoch 8/100\n\u001b[1m128/128\u001b[0m \u001b[32m━━━━━━━━━━━━━━━━━━━━\u001b[0m\u001b[37m\u001b[0m \u001b[1m0s\u001b[0m 2ms/step - accuracy: 0.7923 - loss: 0.5043 - val_accuracy: 0.7975 - val_loss: 0.4962\nEpoch 9/100\n\u001b[1m128/128\u001b[0m \u001b[32m━━━━━━━━━━━━━━━━━━━━\u001b[0m\u001b[37m\u001b[0m \u001b[1m0s\u001b[0m 2ms/step - accuracy: 0.7937 - loss: 0.5030 - val_accuracy: 0.7975 - val_loss: 0.4961\nEpoch 10/100\n\u001b[1m128/128\u001b[0m \u001b[32m━━━━━━━━━━━━━━━━━━━━\u001b[0m\u001b[37m\u001b[0m \u001b[1m0s\u001b[0m 2ms/step - accuracy: 0.7965 - loss: 0.4976 - val_accuracy: 0.7975 - val_loss: 0.4960\nEpoch 11/100\n\u001b[1m128/128\u001b[0m \u001b[32m━━━━━━━━━━━━━━━━━━━━\u001b[0m\u001b[37m\u001b[0m \u001b[1m0s\u001b[0m 2ms/step - accuracy: 0.8058 - loss: 0.4864 - val_accuracy: 0.7975 - val_loss: 0.4960\nEpoch 12/100\n\u001b[1m128/128\u001b[0m \u001b[32m━━━━━━━━━━━━━━━━━━━━\u001b[0m\u001b[37m\u001b[0m \u001b[1m0s\u001b[0m 2ms/step - accuracy: 0.7978 - loss: 0.4976 - val_accuracy: 0.7975 - val_loss: 0.4963\nEpoch 13/100\n\u001b[1m128/128\u001b[0m \u001b[32m━━━━━━━━━━━━━━━━━━━━\u001b[0m\u001b[37m\u001b[0m \u001b[1m0s\u001b[0m 2ms/step - accuracy: 0.8015 - loss: 0.4924 - val_accuracy: 0.7975 - val_loss: 0.4962\nEpoch 14/100\n\u001b[1m128/128\u001b[0m \u001b[32m━━━━━━━━━━━━━━━━━━━━\u001b[0m\u001b[37m\u001b[0m \u001b[1m0s\u001b[0m 2ms/step - accuracy: 0.8009 - loss: 0.4927 - val_accuracy: 0.7975 - val_loss: 0.4960\nEpoch 15/100\n\u001b[1m128/128\u001b[0m \u001b[32m━━━━━━━━━━━━━━━━━━━━\u001b[0m\u001b[37m\u001b[0m \u001b[1m0s\u001b[0m 2ms/step - accuracy: 0.7922 - loss: 0.5040 - val_accuracy: 0.7975 - val_loss: 0.4960\nEpoch 16/100\n\u001b[1m128/128\u001b[0m \u001b[32m━━━━━━━━━━━━━━━━━━━━\u001b[0m\u001b[37m\u001b[0m \u001b[1m0s\u001b[0m 2ms/step - accuracy: 0.7977 - loss: 0.4953 - val_accuracy: 0.7975 - val_loss: 0.4959\nEpoch 17/100\n\u001b[1m128/128\u001b[0m \u001b[32m━━━━━━━━━━━━━━━━━━━━\u001b[0m\u001b[37m\u001b[0m \u001b[1m0s\u001b[0m 2ms/step - accuracy: 0.8009 - loss: 0.4922 - val_accuracy: 0.7975 - val_loss: 0.4961\nEpoch 18/100\n\u001b[1m128/128\u001b[0m \u001b[32m━━━━━━━━━━━━━━━━━━━━\u001b[0m\u001b[37m\u001b[0m \u001b[1m0s\u001b[0m 2ms/step - accuracy: 0.7926 - loss: 0.5033 - val_accuracy: 0.7975 - val_loss: 0.4959\nEpoch 19/100\n\u001b[1m128/128\u001b[0m \u001b[32m━━━━━━━━━━━━━━━━━━━━\u001b[0m\u001b[37m\u001b[0m \u001b[1m0s\u001b[0m 2ms/step - accuracy: 0.7940 - loss: 0.5029 - val_accuracy: 0.7975 - val_loss: 0.4959\nEpoch 20/100\n\u001b[1m128/128\u001b[0m \u001b[32m━━━━━━━━━━━━━━━━━━━━\u001b[0m\u001b[37m\u001b[0m \u001b[1m0s\u001b[0m 2ms/step - accuracy: 0.7946 - loss: 0.4990 - val_accuracy: 0.7975 - val_loss: 0.4960\nEpoch 21/100\n\u001b[1m128/128\u001b[0m \u001b[32m━━━━━━━━━━━━━━━━━━━━\u001b[0m\u001b[37m\u001b[0m \u001b[1m0s\u001b[0m 2ms/step - accuracy: 0.8002 - loss: 0.4919 - val_accuracy: 0.7975 - val_loss: 0.4960\nEpoch 22/100\n\u001b[1m128/128\u001b[0m \u001b[32m━━━━━━━━━━━━━━━━━━━━\u001b[0m\u001b[37m\u001b[0m \u001b[1m0s\u001b[0m 2ms/step - accuracy: 0.8025 - loss: 0.4920 - val_accuracy: 0.7975 - val_loss: 0.4966\nEpoch 23/100\n\u001b[1m128/128\u001b[0m \u001b[32m━━━━━━━━━━━━━━━━━━━━\u001b[0m\u001b[37m\u001b[0m \u001b[1m0s\u001b[0m 2ms/step - accuracy: 0.7969 - loss: 0.4980 - val_accuracy: 0.7975 - val_loss: 0.4961\nEpoch 24/100\n\u001b[1m128/128\u001b[0m \u001b[32m━━━━━━━━━━━━━━━━━━━━\u001b[0m\u001b[37m\u001b[0m \u001b[1m0s\u001b[0m 2ms/step - accuracy: 0.7982 - loss: 0.4943 - val_accuracy: 0.7975 - val_loss: 0.4960\nEpoch 25/100\n\u001b[1m128/128\u001b[0m \u001b[32m━━━━━━━━━━━━━━━━━━━━\u001b[0m\u001b[37m\u001b[0m \u001b[1m0s\u001b[0m 2ms/step - accuracy: 0.8040 - loss: 0.4869 - val_accuracy: 0.7975 - val_loss: 0.4968\nEpoch 26/100\n\u001b[1m128/128\u001b[0m \u001b[32m━━━━━━━━━━━━━━━━━━━━\u001b[0m\u001b[37m\u001b[0m \u001b[1m0s\u001b[0m 2ms/step - accuracy: 0.7971 - loss: 0.4986 - val_accuracy: 0.7975 - val_loss: 0.4960\nEpoch 27/100\n\u001b[1m128/128\u001b[0m \u001b[32m━━━━━━━━━━━━━━━━━━━━\u001b[0m\u001b[37m\u001b[0m \u001b[1m0s\u001b[0m 2ms/step - accuracy: 0.7999 - loss: 0.4927 - val_accuracy: 0.7975 - val_loss: 0.4961\nEpoch 28/100\n\u001b[1m128/128\u001b[0m \u001b[32m━━━━━━━━━━━━━━━━━━━━\u001b[0m\u001b[37m\u001b[0m \u001b[1m0s\u001b[0m 2ms/step - accuracy: 0.7897 - loss: 0.5064 - val_accuracy: 0.7975 - val_loss: 0.4961\nEpoch 29/100\n\u001b[1m128/128\u001b[0m \u001b[32m━━━━━━━━━━━━━━━━━━━━\u001b[0m\u001b[37m\u001b[0m \u001b[1m0s\u001b[0m 2ms/step - accuracy: 0.7957 - loss: 0.4980 - val_accuracy: 0.7975 - val_loss: 0.4962\nEpoch 30/100\n\u001b[1m128/128\u001b[0m \u001b[32m━━━━━━━━━━━━━━━━━━━━\u001b[0m\u001b[37m\u001b[0m \u001b[1m0s\u001b[0m 2ms/step - accuracy: 0.8010 - loss: 0.4893 - val_accuracy: 0.7975 - val_loss: 0.4960\nEpoch 31/100\n\u001b[1m128/128\u001b[0m \u001b[32m━━━━━━━━━━━━━━━━━━━━\u001b[0m\u001b[37m\u001b[0m \u001b[1m0s\u001b[0m 2ms/step - accuracy: 0.7990 - loss: 0.4940 - val_accuracy: 0.7975 - val_loss: 0.4963\nEpoch 32/100\n\u001b[1m128/128\u001b[0m \u001b[32m━━━━━━━━━━━━━━━━━━━━\u001b[0m\u001b[37m\u001b[0m \u001b[1m0s\u001b[0m 2ms/step - accuracy: 0.7943 - loss: 0.5019 - val_accuracy: 0.7975 - val_loss: 0.4960\nEpoch 33/100\n\u001b[1m128/128\u001b[0m \u001b[32m━━━━━━━━━━━━━━━━━━━━\u001b[0m\u001b[37m\u001b[0m \u001b[1m0s\u001b[0m 2ms/step - accuracy: 0.7921 - loss: 0.5055 - val_accuracy: 0.7975 - val_loss: 0.4959\nEpoch 34/100\n\u001b[1m128/128\u001b[0m \u001b[32m━━━━━━━━━━━━━━━━━━━━\u001b[0m\u001b[37m\u001b[0m \u001b[1m0s\u001b[0m 2ms/step - accuracy: 0.7951 - loss: 0.5012 - val_accuracy: 0.7975 - val_loss: 0.4959\nEpoch 35/100\n\u001b[1m128/128\u001b[0m \u001b[32m━━━━━━━━━━━━━━━━━━━━\u001b[0m\u001b[37m\u001b[0m \u001b[1m0s\u001b[0m 2ms/step - accuracy: 0.7934 - loss: 0.4998 - val_accuracy: 0.7975 - val_loss: 0.4959\nEpoch 36/100\n\u001b[1m128/128\u001b[0m \u001b[32m━━━━━━━━━━━━━━━━━━━━\u001b[0m\u001b[37m\u001b[0m \u001b[1m0s\u001b[0m 2ms/step - accuracy: 0.7978 - loss: 0.4973 - val_accuracy: 0.7975 - val_loss: 0.4959\nEpoch 37/100\n\u001b[1m128/128\u001b[0m \u001b[32m━━━━━━━━━━━━━━━━━━━━\u001b[0m\u001b[37m\u001b[0m \u001b[1m0s\u001b[0m 2ms/step - accuracy: 0.8043 - loss: 0.4891 - val_accuracy: 0.7975 - val_loss: 0.4960\nEpoch 38/100\n\u001b[1m128/128\u001b[0m \u001b[32m━━━━━━━━━━━━━━━━━━━━\u001b[0m\u001b[37m\u001b[0m \u001b[1m0s\u001b[0m 2ms/step - accuracy: 0.8045 - loss: 0.4846 - val_accuracy: 0.7975 - val_loss: 0.4959\nEpoch 39/100\n\u001b[1m128/128\u001b[0m \u001b[32m━━━━━━━━━━━━━━━━━━━━\u001b[0m\u001b[37m\u001b[0m \u001b[1m0s\u001b[0m 2ms/step - accuracy: 0.8009 - loss: 0.4933 - val_accuracy: 0.7975 - val_loss: 0.4959\nEpoch 40/100\n\u001b[1m128/128\u001b[0m \u001b[32m━━━━━━━━━━━━━━━━━━━━\u001b[0m\u001b[37m\u001b[0m \u001b[1m0s\u001b[0m 2ms/step - accuracy: 0.7996 - loss: 0.4938 - val_accuracy: 0.7975 - val_loss: 0.4960\nEpoch 41/100\n\u001b[1m128/128\u001b[0m \u001b[32m━━━━━━━━━━━━━━━━━━━━\u001b[0m\u001b[37m\u001b[0m \u001b[1m0s\u001b[0m 2ms/step - accuracy: 0.7912 - loss: 0.5044 - val_accuracy: 0.7975 - val_loss: 0.4959\nEpoch 42/100\n\u001b[1m128/128\u001b[0m \u001b[32m━━━━━━━━━━━━━━━━━━━━\u001b[0m\u001b[37m\u001b[0m \u001b[1m0s\u001b[0m 2ms/step - accuracy: 0.7997 - loss: 0.4922 - val_accuracy: 0.7975 - val_loss: 0.4959\nEpoch 43/100\n\u001b[1m128/128\u001b[0m \u001b[32m━━━━━━━━━━━━━━━━━━━━\u001b[0m\u001b[37m\u001b[0m \u001b[1m0s\u001b[0m 2ms/step - accuracy: 0.8032 - loss: 0.4898 - val_accuracy: 0.7975 - val_loss: 0.4960\nEpoch 44/100\n\u001b[1m128/128\u001b[0m \u001b[32m━━━━━━━━━━━━━━━━━━━━\u001b[0m\u001b[37m\u001b[0m \u001b[1m0s\u001b[0m 2ms/step - accuracy: 0.7895 - loss: 0.5064 - val_accuracy: 0.7975 - val_loss: 0.4959\nEpoch 45/100\n\u001b[1m128/128\u001b[0m \u001b[32m━━━━━━━━━━━━━━━━━━━━\u001b[0m\u001b[37m\u001b[0m \u001b[1m0s\u001b[0m 2ms/step - accuracy: 0.7951 - loss: 0.4991 - val_accuracy: 0.7975 - val_loss: 0.4959\nEpoch 46/100\n\u001b[1m128/128\u001b[0m \u001b[32m━━━━━━━━━━━━━━━━━━━━\u001b[0m\u001b[37m\u001b[0m \u001b[1m0s\u001b[0m 2ms/step - accuracy: 0.7971 - loss: 0.4964 - val_accuracy: 0.7975 - val_loss: 0.4959\nEpoch 47/100\n\u001b[1m128/128\u001b[0m \u001b[32m━━━━━━━━━━━━━━━━━━━━\u001b[0m\u001b[37m\u001b[0m \u001b[1m0s\u001b[0m 2ms/step - accuracy: 0.7939 - loss: 0.5001 - val_accuracy: 0.7975 - val_loss: 0.4959\nEpoch 48/100\n\u001b[1m128/128\u001b[0m \u001b[32m━━━━━━━━━━━━━━━━━━━━\u001b[0m\u001b[37m\u001b[0m \u001b[1m0s\u001b[0m 2ms/step - accuracy: 0.7952 - loss: 0.5012 - val_accuracy: 0.7975 - val_loss: 0.4960\nEpoch 49/100\n\u001b[1m128/128\u001b[0m \u001b[32m━━━━━━━━━━━━━━━━━━━━\u001b[0m\u001b[37m\u001b[0m \u001b[1m0s\u001b[0m 2ms/step - accuracy: 0.7948 - loss: 0.5017 - val_accuracy: 0.7975 - val_loss: 0.4959\nEpoch 50/100\n\u001b[1m128/128\u001b[0m \u001b[32m━━━━━━━━━━━━━━━━━━━━\u001b[0m\u001b[37m\u001b[0m \u001b[1m0s\u001b[0m 2ms/step - accuracy: 0.7895 - loss: 0.5067 - val_accuracy: 0.7975 - val_loss: 0.4959\nEpoch 51/100\n\u001b[1m128/128\u001b[0m \u001b[32m━━━━━━━━━━━━━━━━━━━━\u001b[0m\u001b[37m\u001b[0m \u001b[1m0s\u001b[0m 2ms/step - accuracy: 0.8028 - loss: 0.4883 - val_accuracy: 0.7975 - val_loss: 0.4964\nEpoch 52/100\n\u001b[1m128/128\u001b[0m \u001b[32m━━━━━━━━━━━━━━━━━━━━\u001b[0m\u001b[37m\u001b[0m \u001b[1m0s\u001b[0m 2ms/step - accuracy: 0.7890 - loss: 0.5097 - val_accuracy: 0.7975 - val_loss: 0.4960\nEpoch 53/100\n\u001b[1m128/128\u001b[0m \u001b[32m━━━━━━━━━━━━━━━━━━━━\u001b[0m\u001b[37m\u001b[0m \u001b[1m0s\u001b[0m 2ms/step - accuracy: 0.8017 - loss: 0.4901 - val_accuracy: 0.7975 - val_loss: 0.4960\nEpoch 54/100\n\u001b[1m128/128\u001b[0m \u001b[32m━━━━━━━━━━━━━━━━━━━━\u001b[0m\u001b[37m\u001b[0m \u001b[1m0s\u001b[0m 2ms/step - accuracy: 0.7970 - loss: 0.4959 - val_accuracy: 0.7975 - val_loss: 0.4962\nEpoch 55/100\n\u001b[1m128/128\u001b[0m \u001b[32m━━━━━━━━━━━━━━━━━━━━\u001b[0m\u001b[37m\u001b[0m \u001b[1m0s\u001b[0m 2ms/step - accuracy: 0.7925 - loss: 0.5035 - val_accuracy: 0.7975 - val_loss: 0.4959\nEpoch 56/100\n\u001b[1m128/128\u001b[0m \u001b[32m━━━━━━━━━━━━━━━━━━━━\u001b[0m\u001b[37m\u001b[0m \u001b[1m0s\u001b[0m 2ms/step - accuracy: 0.8052 - loss: 0.4878 - val_accuracy: 0.7975 - val_loss: 0.4961\nEpoch 57/100\n\u001b[1m128/128\u001b[0m \u001b[32m━━━━━━━━━━━━━━━━━━━━\u001b[0m\u001b[37m\u001b[0m \u001b[1m0s\u001b[0m 2ms/step - accuracy: 0.7994 - loss: 0.4951 - val_accuracy: 0.7975 - val_loss: 0.4959\nEpoch 58/100\n\u001b[1m128/128\u001b[0m \u001b[32m━━━━━━━━━━━━━━━━━━━━\u001b[0m\u001b[37m\u001b[0m \u001b[1m0s\u001b[0m 2ms/step - accuracy: 0.7994 - loss: 0.4963 - val_accuracy: 0.7975 - val_loss: 0.4960\nEpoch 59/100\n\u001b[1m128/128\u001b[0m \u001b[32m━━━━━━━━━━━━━━━━━━━━\u001b[0m\u001b[37m\u001b[0m \u001b[1m0s\u001b[0m 2ms/step - accuracy: 0.7929 - loss: 0.5010 - val_accuracy: 0.7975 - val_loss: 0.4961\nEpoch 60/100\n\u001b[1m128/128\u001b[0m \u001b[32m━━━━━━━━━━━━━━━━━━━━\u001b[0m\u001b[37m\u001b[0m \u001b[1m0s\u001b[0m 2ms/step - accuracy: 0.7911 - loss: 0.5059 - val_accuracy: 0.7975 - val_loss: 0.4960\nEpoch 61/100\n\u001b[1m128/128\u001b[0m \u001b[32m━━━━━━━━━━━━━━━━━━━━\u001b[0m\u001b[37m\u001b[0m \u001b[1m0s\u001b[0m 2ms/step - accuracy: 0.8036 - loss: 0.4887 - val_accuracy: 0.7975 - val_loss: 0.4960\nEpoch 62/100\n\u001b[1m128/128\u001b[0m \u001b[32m━━━━━━━━━━━━━━━━━━━━\u001b[0m\u001b[37m\u001b[0m \u001b[1m0s\u001b[0m 2ms/step - accuracy: 0.7928 - loss: 0.5050 - val_accuracy: 0.7975 - val_loss: 0.4961\nEpoch 63/100\n\u001b[1m128/128\u001b[0m \u001b[32m━━━━━━━━━━━━━━━━━━━━\u001b[0m\u001b[37m\u001b[0m \u001b[1m0s\u001b[0m 2ms/step - accuracy: 0.7929 - loss: 0.5045 - val_accuracy: 0.7975 - val_loss: 0.4959\nEpoch 64/100\n\u001b[1m128/128\u001b[0m \u001b[32m━━━━━━━━━━━━━━━━━━━━\u001b[0m\u001b[37m\u001b[0m \u001b[1m0s\u001b[0m 2ms/step - accuracy: 0.7930 - loss: 0.5047 - val_accuracy: 0.7975 - val_loss: 0.4960\nEpoch 65/100\n\u001b[1m128/128\u001b[0m \u001b[32m━━━━━━━━━━━━━━━━━━━━\u001b[0m\u001b[37m\u001b[0m \u001b[1m0s\u001b[0m 2ms/step - accuracy: 0.7921 - loss: 0.5053 - val_accuracy: 0.7975 - val_loss: 0.4960\nEpoch 66/100\n\u001b[1m128/128\u001b[0m \u001b[32m━━━━━━━━━━━━━━━━━━━━\u001b[0m\u001b[37m\u001b[0m \u001b[1m0s\u001b[0m 2ms/step - accuracy: 0.8046 - loss: 0.4868 - val_accuracy: 0.7975 - val_loss: 0.4964\nEpoch 67/100\n\u001b[1m128/128\u001b[0m \u001b[32m━━━━━━━━━━━━━━━━━━━━\u001b[0m\u001b[37m\u001b[0m \u001b[1m0s\u001b[0m 2ms/step - accuracy: 0.7956 - loss: 0.4990 - val_accuracy: 0.7975 - val_loss: 0.4960\nEpoch 68/100\n\u001b[1m128/128\u001b[0m \u001b[32m━━━━━━━━━━━━━━━━━━━━\u001b[0m\u001b[37m\u001b[0m \u001b[1m0s\u001b[0m 2ms/step - accuracy: 0.7963 - loss: 0.4978 - val_accuracy: 0.7975 - val_loss: 0.4961\nEpoch 69/100\n\u001b[1m128/128\u001b[0m \u001b[32m━━━━━━━━━━━━━━━━━━━━\u001b[0m\u001b[37m\u001b[0m \u001b[1m0s\u001b[0m 2ms/step - accuracy: 0.7962 - loss: 0.4978 - val_accuracy: 0.7975 - val_loss: 0.4959\nEpoch 70/100\n\u001b[1m128/128\u001b[0m \u001b[32m━━━━━━━━━━━━━━━━━━━━\u001b[0m\u001b[37m\u001b[0m \u001b[1m0s\u001b[0m 2ms/step - accuracy: 0.7896 - loss: 0.5063 - val_accuracy: 0.7975 - val_loss: 0.4963\nEpoch 71/100\n\u001b[1m128/128\u001b[0m \u001b[32m━━━━━━━━━━━━━━━━━━━━\u001b[0m\u001b[37m\u001b[0m \u001b[1m0s\u001b[0m 2ms/step - accuracy: 0.7909 - loss: 0.5056 - val_accuracy: 0.7975 - val_loss: 0.4959\nEpoch 72/100\n\u001b[1m128/128\u001b[0m \u001b[32m━━━━━━━━━━━━━━━━━━━━\u001b[0m\u001b[37m\u001b[0m \u001b[1m0s\u001b[0m 2ms/step - accuracy: 0.7893 - loss: 0.5081 - val_accuracy: 0.7975 - val_loss: 0.4968\nEpoch 73/100\n\u001b[1m128/128\u001b[0m \u001b[32m━━━━━━━━━━━━━━━━━━━━\u001b[0m\u001b[37m\u001b[0m \u001b[1m0s\u001b[0m 2ms/step - accuracy: 0.7993 - loss: 0.4941 - val_accuracy: 0.7975 - val_loss: 0.4960\nEpoch 74/100\n\u001b[1m128/128\u001b[0m \u001b[32m━━━━━━━━━━━━━━━━━━━━\u001b[0m\u001b[37m\u001b[0m \u001b[1m0s\u001b[0m 2ms/step - accuracy: 0.7940 - loss: 0.5033 - val_accuracy: 0.7975 - val_loss: 0.4959\nEpoch 75/100\n\u001b[1m128/128\u001b[0m \u001b[32m━━━━━━━━━━━━━━━━━━━━\u001b[0m\u001b[37m\u001b[0m \u001b[1m0s\u001b[0m 2ms/step - accuracy: 0.7909 - loss: 0.5070 - val_accuracy: 0.7975 - val_loss: 0.4959\nEpoch 76/100\n\u001b[1m128/128\u001b[0m \u001b[32m━━━━━━━━━━━━━━━━━━━━\u001b[0m\u001b[37m\u001b[0m \u001b[1m0s\u001b[0m 2ms/step - accuracy: 0.7980 - loss: 0.4959 - val_accuracy: 0.7975 - val_loss: 0.4959\nEpoch 77/100\n\u001b[1m128/128\u001b[0m \u001b[32m━━━━━━━━━━━━━━━━━━━━\u001b[0m\u001b[37m\u001b[0m \u001b[1m0s\u001b[0m 2ms/step - accuracy: 0.7989 - loss: 0.4937 - val_accuracy: 0.7975 - val_loss: 0.4959\nEpoch 78/100\n\u001b[1m128/128\u001b[0m \u001b[32m━━━━━━━━━━━━━━━━━━━━\u001b[0m\u001b[37m\u001b[0m \u001b[1m0s\u001b[0m 2ms/step - accuracy: 0.8049 - loss: 0.4880 - val_accuracy: 0.7975 - val_loss: 0.4960\nEpoch 79/100\n\u001b[1m128/128\u001b[0m \u001b[32m━━━━━━━━━━━━━━━━━━━━\u001b[0m\u001b[37m\u001b[0m \u001b[1m0s\u001b[0m 2ms/step - accuracy: 0.8038 - loss: 0.4898 - val_accuracy: 0.7975 - val_loss: 0.4959\nEpoch 80/100\n\u001b[1m128/128\u001b[0m \u001b[32m━━━━━━━━━━━━━━━━━━━━\u001b[0m\u001b[37m\u001b[0m \u001b[1m0s\u001b[0m 2ms/step - accuracy: 0.7978 - loss: 0.4961 - val_accuracy: 0.7975 - val_loss: 0.4959\nEpoch 81/100\n\u001b[1m128/128\u001b[0m \u001b[32m━━━━━━━━━━━━━━━━━━━━\u001b[0m\u001b[37m\u001b[0m \u001b[1m0s\u001b[0m 2ms/step - accuracy: 0.8101 - loss: 0.4805 - val_accuracy: 0.7975 - val_loss: 0.4970\nEpoch 82/100\n\u001b[1m128/128\u001b[0m \u001b[32m━━━━━━━━━━━━━━━━━━━━\u001b[0m\u001b[37m\u001b[0m \u001b[1m0s\u001b[0m 2ms/step - accuracy: 0.7967 - loss: 0.4953 - val_accuracy: 0.7975 - val_loss: 0.4961\nEpoch 83/100\n\u001b[1m128/128\u001b[0m \u001b[32m━━━━━━━━━━━━━━━━━━━━\u001b[0m\u001b[37m\u001b[0m \u001b[1m0s\u001b[0m 2ms/step - accuracy: 0.8067 - loss: 0.4798 - val_accuracy: 0.7975 - val_loss: 0.4965\nEpoch 84/100\n\u001b[1m128/128\u001b[0m \u001b[32m━━━━━━━━━━━━━━━━━━━━\u001b[0m\u001b[37m\u001b[0m \u001b[1m0s\u001b[0m 2ms/step - accuracy: 0.7919 - loss: 0.5031 - val_accuracy: 0.7975 - val_loss: 0.4961\nEpoch 85/100\n\u001b[1m128/128\u001b[0m \u001b[32m━━━━━━━━━━━━━━━━━━━━\u001b[0m\u001b[37m\u001b[0m \u001b[1m0s\u001b[0m 2ms/step - accuracy: 0.7899 - loss: 0.5039 - val_accuracy: 0.7975 - val_loss: 0.4963\nEpoch 86/100\n\u001b[1m128/128\u001b[0m \u001b[32m━━━━━━━━━━━━━━━━━━━━\u001b[0m\u001b[37m\u001b[0m \u001b[1m0s\u001b[0m 2ms/step - accuracy: 0.7952 - loss: 0.5003 - val_accuracy: 0.7975 - val_loss: 0.4960\nEpoch 87/100\n\u001b[1m128/128\u001b[0m \u001b[32m━━━━━━━━━━━━━━━━━━━━\u001b[0m\u001b[37m\u001b[0m \u001b[1m0s\u001b[0m 2ms/step - accuracy: 0.8008 - loss: 0.4926 - val_accuracy: 0.7975 - val_loss: 0.4964\nEpoch 88/100\n\u001b[1m128/128\u001b[0m \u001b[32m━━━━━━━━━━━━━━━━━━━━\u001b[0m\u001b[37m\u001b[0m \u001b[1m0s\u001b[0m 2ms/step - accuracy: 0.8008 - loss: 0.4905 - val_accuracy: 0.7975 - val_loss: 0.4959\nEpoch 89/100\n\u001b[1m128/128\u001b[0m \u001b[32m━━━━━━━━━━━━━━━━━━━━\u001b[0m\u001b[37m\u001b[0m \u001b[1m0s\u001b[0m 2ms/step - accuracy: 0.7968 - loss: 0.4961 - val_accuracy: 0.7975 - val_loss: 0.4960\nEpoch 90/100\n\u001b[1m128/128\u001b[0m \u001b[32m━━━━━━━━━━━━━━━━━━━━\u001b[0m\u001b[37m\u001b[0m \u001b[1m0s\u001b[0m 2ms/step - accuracy: 0.8087 - loss: 0.4811 - val_accuracy: 0.7975 - val_loss: 0.4963\nEpoch 91/100\n\u001b[1m128/128\u001b[0m \u001b[32m━━━━━━━━━━━━━━━━━━━━\u001b[0m\u001b[37m\u001b[0m \u001b[1m0s\u001b[0m 2ms/step - accuracy: 0.7907 - loss: 0.5031 - val_accuracy: 0.7975 - val_loss: 0.4961\nEpoch 92/100\n\u001b[1m128/128\u001b[0m \u001b[32m━━━━━━━━━━━━━━━━━━━━\u001b[0m\u001b[37m\u001b[0m \u001b[1m0s\u001b[0m 2ms/step - accuracy: 0.7950 - loss: 0.5003 - val_accuracy: 0.7975 - val_loss: 0.4960\nEpoch 93/100\n\u001b[1m128/128\u001b[0m \u001b[32m━━━━━━━━━━━━━━━━━━━━\u001b[0m\u001b[37m\u001b[0m \u001b[1m0s\u001b[0m 2ms/step - accuracy: 0.8004 - loss: 0.4932 - val_accuracy: 0.7975 - val_loss: 0.4960\nEpoch 94/100\n\u001b[1m128/128\u001b[0m \u001b[32m━━━━━━━━━━━━━━━━━━━━\u001b[0m\u001b[37m\u001b[0m \u001b[1m0s\u001b[0m 2ms/step - accuracy: 0.7880 - loss: 0.5104 - val_accuracy: 0.7975 - val_loss: 0.4960\nEpoch 95/100\n\u001b[1m128/128\u001b[0m \u001b[32m━━━━━━━━━━━━━━━━━━━━\u001b[0m\u001b[37m\u001b[0m \u001b[1m0s\u001b[0m 2ms/step - accuracy: 0.7968 - loss: 0.4991 - val_accuracy: 0.7975 - val_loss: 0.4960\nEpoch 96/100\n\u001b[1m128/128\u001b[0m \u001b[32m━━━━━━━━━━━━━━━━━━━━\u001b[0m\u001b[37m\u001b[0m \u001b[1m0s\u001b[0m 2ms/step - accuracy: 0.8020 - loss: 0.4891 - val_accuracy: 0.7975 - val_loss: 0.4959\nEpoch 97/100\n\u001b[1m128/128\u001b[0m \u001b[32m━━━━━━━━━━━━━━━━━━━━\u001b[0m\u001b[37m\u001b[0m \u001b[1m0s\u001b[0m 2ms/step - accuracy: 0.7985 - loss: 0.4959 - val_accuracy: 0.7975 - val_loss: 0.4960\nEpoch 98/100\n\u001b[1m128/128\u001b[0m \u001b[32m━━━━━━━━━━━━━━━━━━━━\u001b[0m\u001b[37m\u001b[0m \u001b[1m0s\u001b[0m 2ms/step - accuracy: 0.7921 - loss: 0.5062 - val_accuracy: 0.7975 - val_loss: 0.4960\nEpoch 99/100\n\u001b[1m128/128\u001b[0m \u001b[32m━━━━━━━━━━━━━━━━━━━━\u001b[0m\u001b[37m\u001b[0m \u001b[1m0s\u001b[0m 2ms/step - accuracy: 0.7922 - loss: 0.5015 - val_accuracy: 0.7975 - val_loss: 0.4960\nEpoch 100/100\n\u001b[1m128/128\u001b[0m \u001b[32m━━━━━━━━━━━━━━━━━━━━\u001b[0m\u001b[37m\u001b[0m \u001b[1m0s\u001b[0m 2ms/step - accuracy: 0.8029 - loss: 0.4917 - val_accuracy: 0.7975 - val_loss: 0.4960\n",
          "output_type": "stream"
        }
      ]
    },
    {
      "cell_type": "code",
      "source": [
        "model.layers[1].get_weights()"
      ],
      "metadata": {
        "execution": {
          "iopub.status.busy": "2024-09-02T17:49:04.701869Z",
          "iopub.execute_input": "2024-09-02T17:49:04.702296Z",
          "iopub.status.idle": "2024-09-02T17:49:04.714159Z",
          "shell.execute_reply.started": "2024-09-02T17:49:04.702259Z",
          "shell.execute_reply": "2024-09-02T17:49:04.713178Z"
        },
        "trusted": true,
        "id": "yWwreRDD6ynt",
        "outputId": "1198c3e1-36e8-4fce-fdd0-41df703b5231"
      },
      "execution_count": null,
      "outputs": [
        {
          "execution_count": 154,
          "output_type": "execute_result",
          "data": {
            "text/plain": "[array([[ 8.96374941e-01, -7.57576108e-01,  1.10741565e-02,\n         -7.43249878e-02, -4.71157819e-01, -1.96974063e+00,\n          3.30330431e-01,  5.18197775e-01,  1.36325940e-01,\n          7.12780833e-01,  2.54286855e-01],\n        [-1.09417176e+00,  2.82810152e-01,  4.19829607e-01,\n          3.68232727e-02, -1.12985693e-01,  4.68034953e-01,\n          2.99755931e-01,  7.91210055e-01, -4.86717336e-02,\n         -1.26178753e+00,  2.69472092e-01],\n        [-1.20571643e-01,  2.30056733e-01, -2.45856032e-01,\n          7.04953909e-01, -4.20061260e-01,  2.95287937e-01,\n         -8.59744728e-01,  3.76947820e-02,  8.27194035e-01,\n         -7.15826988e-01,  1.07881680e-01],\n        [ 2.48365588e-02,  1.99137572e-02, -2.39261553e-01,\n          1.68841228e-01,  2.35498637e-01, -1.25350818e-01,\n         -3.06847215e-01, -9.56929803e-01,  1.07391074e-01,\n          1.68933004e-01, -7.51300931e-01],\n        [ 4.54349399e-01, -4.83924001e-01,  4.40648347e-01,\n          3.49217564e-01, -3.21987212e-01, -5.85773110e-01,\n         -6.04664981e-01,  5.04996479e-01, -1.81878388e-01,\n          4.22067732e-01,  3.42161618e-02],\n        [-3.11769158e-01,  3.68801057e-01,  2.53229678e-01,\n          1.43047258e-01,  6.33780420e-01,  1.95156038e-01,\n         -4.35398281e-01, -4.45754938e-02, -4.69965696e-01,\n         -5.47128499e-01, -6.64344952e-02],\n        [-3.20369393e-01,  4.21027094e-01,  7.82236338e-01,\n          8.40333879e-01, -2.02456012e-01,  4.00887996e-01,\n          1.47364840e-01, -1.25045469e-03,  1.43672833e-02,\n         -1.30795375e-01, -9.08924282e-01],\n        [-1.16058372e-01, -2.03053042e-01,  5.70523858e-01,\n         -2.45118402e-02,  3.39814365e-01,  7.63631761e-02,\n          7.88854241e-01,  5.70626915e-01, -2.93084860e-01,\n         -1.48849651e-01,  4.35771048e-02],\n        [-5.32894552e-01, -3.56944799e-01,  2.36841485e-01,\n          2.71669757e-02,  1.94164157e-01, -6.47741705e-02,\n          3.11372072e-01, -1.08084798e+00,  2.95147449e-01,\n          2.85416059e-02,  6.37601733e-01],\n        [-3.00662071e-02,  4.63410974e-01,  1.07736528e-01,\n          4.04524326e-01,  5.56282818e-01,  5.81730723e-01,\n         -4.12711412e-01, -5.11606634e-01, -1.84364825e-01,\n         -9.89180133e-02, -6.33727610e-02],\n        [ 2.93043971e-01, -6.01814628e-01,  2.59503692e-01,\n          2.55685955e-01,  2.41404340e-01, -1.04727089e+00,\n          6.27651036e-01,  6.95468187e-02,  5.46235442e-01,\n          1.94607690e-01, -5.66295497e-02]], dtype=float32),\n array([-0.13011613, -0.13013038,  0.0542934 ,  0.24975911,  0.48480517,\n         0.08991168,  0.28984657,  0.2199849 ,  0.00861013, -0.8350284 ,\n         0.23953718], dtype=float32)]"
          },
          "metadata": {}
        }
      ]
    },
    {
      "cell_type": "code",
      "source": [
        "y_pred = model.predict(X_test)"
      ],
      "metadata": {
        "execution": {
          "iopub.status.busy": "2024-09-02T18:00:21.17424Z",
          "iopub.execute_input": "2024-09-02T18:00:21.174681Z",
          "iopub.status.idle": "2024-09-02T18:00:21.423694Z",
          "shell.execute_reply.started": "2024-09-02T18:00:21.174642Z",
          "shell.execute_reply": "2024-09-02T18:00:21.422455Z"
        },
        "trusted": true,
        "id": "hPv_bbxa6ynu",
        "outputId": "47bb4901-9d0c-47b2-f1ad-d038283fdf40"
      },
      "execution_count": null,
      "outputs": [
        {
          "name": "stdout",
          "text": "\u001b[1m63/63\u001b[0m \u001b[32m━━━━━━━━━━━━━━━━━━━━\u001b[0m\u001b[37m\u001b[0m \u001b[1m0s\u001b[0m 2ms/step\n",
          "output_type": "stream"
        }
      ]
    },
    {
      "cell_type": "code",
      "source": [
        "y_pred"
      ],
      "metadata": {
        "execution": {
          "iopub.status.busy": "2024-09-02T18:00:36.574902Z",
          "iopub.execute_input": "2024-09-02T18:00:36.576027Z",
          "iopub.status.idle": "2024-09-02T18:00:36.582778Z",
          "shell.execute_reply.started": "2024-09-02T18:00:36.575971Z",
          "shell.execute_reply": "2024-09-02T18:00:36.581727Z"
        },
        "trusted": true,
        "id": "r5yNGYKX6ynu",
        "outputId": "c7e25359-5c65-42dd-d2fc-80be2f2766c8"
      },
      "execution_count": null,
      "outputs": [
        {
          "execution_count": 175,
          "output_type": "execute_result",
          "data": {
            "text/plain": "array([[0.14042684],\n       [0.24109472],\n       [0.14042684],\n       ...,\n       [0.14042684],\n       [0.2536299 ],\n       [0.24109472]], dtype=float32)"
          },
          "metadata": {}
        }
      ]
    },
    {
      "cell_type": "code",
      "source": [
        "y_pred = y_pred.argmax(axis=-1)"
      ],
      "metadata": {
        "execution": {
          "iopub.status.busy": "2024-09-02T18:00:56.447115Z",
          "iopub.execute_input": "2024-09-02T18:00:56.447552Z",
          "iopub.status.idle": "2024-09-02T18:00:56.45311Z",
          "shell.execute_reply.started": "2024-09-02T18:00:56.447511Z",
          "shell.execute_reply": "2024-09-02T18:00:56.451756Z"
        },
        "trusted": true,
        "id": "1NWQqSR06ynu"
      },
      "execution_count": null,
      "outputs": []
    },
    {
      "cell_type": "code",
      "source": [
        "from sklearn.metrics import accuracy_score\n",
        "accuracy_score(y_test, y_pred)"
      ],
      "metadata": {
        "execution": {
          "iopub.status.busy": "2024-09-02T18:01:02.083949Z",
          "iopub.execute_input": "2024-09-02T18:01:02.085064Z",
          "iopub.status.idle": "2024-09-02T18:01:02.095793Z",
          "shell.execute_reply.started": "2024-09-02T18:01:02.085017Z",
          "shell.execute_reply": "2024-09-02T18:01:02.094283Z"
        },
        "trusted": true,
        "id": "LF0PUUX56ynu",
        "outputId": "580f7722-865e-4fe5-bcd8-2e65d274818c"
      },
      "execution_count": null,
      "outputs": [
        {
          "execution_count": 177,
          "output_type": "execute_result",
          "data": {
            "text/plain": "0.7925"
          },
          "metadata": {}
        }
      ]
    },
    {
      "cell_type": "code",
      "source": [
        "import matplotlib.pyplot as plt"
      ],
      "metadata": {
        "execution": {
          "iopub.status.busy": "2024-09-02T18:01:14.816054Z",
          "iopub.execute_input": "2024-09-02T18:01:14.816856Z",
          "iopub.status.idle": "2024-09-02T18:01:14.821618Z",
          "shell.execute_reply.started": "2024-09-02T18:01:14.816811Z",
          "shell.execute_reply": "2024-09-02T18:01:14.820259Z"
        },
        "trusted": true,
        "id": "7SLHbUAw6ynu"
      },
      "execution_count": null,
      "outputs": []
    },
    {
      "cell_type": "code",
      "source": [
        "history.history"
      ],
      "metadata": {
        "execution": {
          "iopub.status.busy": "2024-09-02T18:01:17.310762Z",
          "iopub.execute_input": "2024-09-02T18:01:17.31118Z",
          "iopub.status.idle": "2024-09-02T18:01:17.322856Z",
          "shell.execute_reply.started": "2024-09-02T18:01:17.311142Z",
          "shell.execute_reply": "2024-09-02T18:01:17.321749Z"
        },
        "trusted": true,
        "id": "5wqhcJoV6ynu",
        "outputId": "a7942638-a810-4398-81a6-e5f34f1b6832"
      },
      "execution_count": null,
      "outputs": [
        {
          "execution_count": 179,
          "output_type": "execute_result",
          "data": {
            "text/plain": "{'accuracy': [0.7971875071525574,\n  0.7971875071525574,\n  0.7971875071525574,\n  0.7971875071525574,\n  0.7971875071525574,\n  0.7971875071525574,\n  0.7971875071525574,\n  0.7971875071525574,\n  0.7971875071525574,\n  0.7971875071525574,\n  0.7971875071525574,\n  0.7971875071525574,\n  0.7971875071525574,\n  0.7971875071525574,\n  0.7971875071525574,\n  0.7971875071525574,\n  0.7971875071525574,\n  0.7971875071525574,\n  0.7971875071525574,\n  0.7971875071525574,\n  0.7971875071525574,\n  0.7971875071525574,\n  0.7971875071525574,\n  0.7971875071525574,\n  0.7971875071525574,\n  0.7971875071525574,\n  0.7971875071525574,\n  0.7971875071525574,\n  0.7971875071525574,\n  0.7971875071525574,\n  0.7971875071525574,\n  0.7971875071525574,\n  0.7971875071525574,\n  0.7971875071525574,\n  0.7971875071525574,\n  0.7971875071525574,\n  0.7971875071525574,\n  0.7971875071525574,\n  0.7971875071525574,\n  0.7971875071525574,\n  0.7971875071525574,\n  0.7971875071525574,\n  0.7971875071525574,\n  0.7971875071525574,\n  0.7971875071525574,\n  0.7971875071525574,\n  0.7971875071525574,\n  0.7971875071525574,\n  0.7971875071525574,\n  0.7971875071525574,\n  0.7971875071525574,\n  0.7971875071525574,\n  0.7971875071525574,\n  0.7971875071525574,\n  0.7971875071525574,\n  0.7971875071525574,\n  0.7971875071525574,\n  0.7971875071525574,\n  0.7971875071525574,\n  0.7971875071525574,\n  0.7971875071525574,\n  0.7971875071525574,\n  0.7971875071525574,\n  0.7971875071525574,\n  0.7971875071525574,\n  0.7971875071525574,\n  0.7971875071525574,\n  0.7971875071525574,\n  0.7971875071525574,\n  0.7971875071525574,\n  0.7971875071525574,\n  0.7971875071525574,\n  0.7971875071525574,\n  0.7971875071525574,\n  0.7971875071525574,\n  0.7971875071525574,\n  0.7971875071525574,\n  0.7971875071525574,\n  0.7971875071525574,\n  0.7971875071525574,\n  0.7971875071525574,\n  0.7971875071525574,\n  0.7971875071525574,\n  0.7971875071525574,\n  0.7971875071525574,\n  0.7971875071525574,\n  0.7971875071525574,\n  0.7971875071525574,\n  0.7971875071525574,\n  0.7971875071525574,\n  0.7971875071525574,\n  0.7971875071525574,\n  0.7971875071525574,\n  0.7971875071525574,\n  0.7971875071525574,\n  0.7971875071525574,\n  0.7971875071525574,\n  0.7971875071525574,\n  0.7971875071525574,\n  0.7971875071525574],\n 'loss': [0.5045454502105713,\n  0.5016050934791565,\n  0.5002548694610596,\n  0.49949267506599426,\n  0.49934083223342896,\n  0.4989798069000244,\n  0.4983624219894409,\n  0.497921347618103,\n  0.4977722465991974,\n  0.49758070707321167,\n  0.4974028468132019,\n  0.49755406379699707,\n  0.49729153513908386,\n  0.4972774088382721,\n  0.4972633123397827,\n  0.49719923734664917,\n  0.49703314900398254,\n  0.49713340401649475,\n  0.497076153755188,\n  0.49711403250694275,\n  0.49707645177841187,\n  0.4970383942127228,\n  0.49734577536582947,\n  0.497192919254303,\n  0.4968644082546234,\n  0.49730220437049866,\n  0.49687835574150085,\n  0.496908038854599,\n  0.49694520235061646,\n  0.4968724846839905,\n  0.4969428777694702,\n  0.4970700740814209,\n  0.49717557430267334,\n  0.49703165888786316,\n  0.49703487753868103,\n  0.4969683587551117,\n  0.4972781836986542,\n  0.49748867750167847,\n  0.49707522988319397,\n  0.4968784749507904,\n  0.49701258540153503,\n  0.49693289399147034,\n  0.49712246656417847,\n  0.4969913959503174,\n  0.49699991941452026,\n  0.4970379173755646,\n  0.49694010615348816,\n  0.4969382882118225,\n  0.49700605869293213,\n  0.49698299169540405,\n  0.4969640374183655,\n  0.4970507025718689,\n  0.49694207310676575,\n  0.4969037175178528,\n  0.4971824586391449,\n  0.4967480003833771,\n  0.49701428413391113,\n  0.4970851242542267,\n  0.49689343571662903,\n  0.4970616400241852,\n  0.49681854248046875,\n  0.4968082904815674,\n  0.49701306223869324,\n  0.4968709647655487,\n  0.49688610434532166,\n  0.49693408608436584,\n  0.4968610405921936,\n  0.4971329867839813,\n  0.49703720211982727,\n  0.4966644048690796,\n  0.4969729483127594,\n  0.49680644273757935,\n  0.4968460202217102,\n  0.4968295395374298,\n  0.49697744846343994,\n  0.49699315428733826,\n  0.4967840313911438,\n  0.4968305230140686,\n  0.4968491792678833,\n  0.49701038002967834,\n  0.4966476559638977,\n  0.49731406569480896,\n  0.49654921889305115,\n  0.49688708782196045,\n  0.49678418040275574,\n  0.4970744252204895,\n  0.49692627787590027,\n  0.49699145555496216,\n  0.49678730964660645,\n  0.4966384470462799,\n  0.4966648519039154,\n  0.4970451295375824,\n  0.49691760540008545,\n  0.496794193983078,\n  0.49693915247917175,\n  0.496715247631073,\n  0.4968854486942291,\n  0.4968128204345703,\n  0.49690306186676025,\n  0.49671584367752075],\n 'val_accuracy': [0.7975000143051147,\n  0.7975000143051147,\n  0.7975000143051147,\n  0.7975000143051147,\n  0.7975000143051147,\n  0.7975000143051147,\n  0.7975000143051147,\n  0.7975000143051147,\n  0.7975000143051147,\n  0.7975000143051147,\n  0.7975000143051147,\n  0.7975000143051147,\n  0.7975000143051147,\n  0.7975000143051147,\n  0.7975000143051147,\n  0.7975000143051147,\n  0.7975000143051147,\n  0.7975000143051147,\n  0.7975000143051147,\n  0.7975000143051147,\n  0.7975000143051147,\n  0.7975000143051147,\n  0.7975000143051147,\n  0.7975000143051147,\n  0.7975000143051147,\n  0.7975000143051147,\n  0.7975000143051147,\n  0.7975000143051147,\n  0.7975000143051147,\n  0.7975000143051147,\n  0.7975000143051147,\n  0.7975000143051147,\n  0.7975000143051147,\n  0.7975000143051147,\n  0.7975000143051147,\n  0.7975000143051147,\n  0.7975000143051147,\n  0.7975000143051147,\n  0.7975000143051147,\n  0.7975000143051147,\n  0.7975000143051147,\n  0.7975000143051147,\n  0.7975000143051147,\n  0.7975000143051147,\n  0.7975000143051147,\n  0.7975000143051147,\n  0.7975000143051147,\n  0.7975000143051147,\n  0.7975000143051147,\n  0.7975000143051147,\n  0.7975000143051147,\n  0.7975000143051147,\n  0.7975000143051147,\n  0.7975000143051147,\n  0.7975000143051147,\n  0.7975000143051147,\n  0.7975000143051147,\n  0.7975000143051147,\n  0.7975000143051147,\n  0.7975000143051147,\n  0.7975000143051147,\n  0.7975000143051147,\n  0.7975000143051147,\n  0.7975000143051147,\n  0.7975000143051147,\n  0.7975000143051147,\n  0.7975000143051147,\n  0.7975000143051147,\n  0.7975000143051147,\n  0.7975000143051147,\n  0.7975000143051147,\n  0.7975000143051147,\n  0.7975000143051147,\n  0.7975000143051147,\n  0.7975000143051147,\n  0.7975000143051147,\n  0.7975000143051147,\n  0.7975000143051147,\n  0.7975000143051147,\n  0.7975000143051147,\n  0.7975000143051147,\n  0.7975000143051147,\n  0.7975000143051147,\n  0.7975000143051147,\n  0.7975000143051147,\n  0.7975000143051147,\n  0.7975000143051147,\n  0.7975000143051147,\n  0.7975000143051147,\n  0.7975000143051147,\n  0.7975000143051147,\n  0.7975000143051147,\n  0.7975000143051147,\n  0.7975000143051147,\n  0.7975000143051147,\n  0.7975000143051147,\n  0.7975000143051147,\n  0.7975000143051147,\n  0.7975000143051147,\n  0.7975000143051147],\n 'val_loss': [0.5020245909690857,\n  0.49948176741600037,\n  0.49867644906044006,\n  0.49786698818206787,\n  0.497666597366333,\n  0.497180700302124,\n  0.49663451313972473,\n  0.4961934983730316,\n  0.49607330560684204,\n  0.4959956705570221,\n  0.49595245718955994,\n  0.4963107705116272,\n  0.49615269899368286,\n  0.49596595764160156,\n  0.49596095085144043,\n  0.4959387183189392,\n  0.4961397647857666,\n  0.49594059586524963,\n  0.495936781167984,\n  0.4960018992424011,\n  0.4959838092327118,\n  0.4965922236442566,\n  0.4960806369781494,\n  0.4959864020347595,\n  0.4968051016330719,\n  0.4960218369960785,\n  0.49613529443740845,\n  0.49608683586120605,\n  0.4961603581905365,\n  0.49598848819732666,\n  0.49633121490478516,\n  0.4960208237171173,\n  0.49586713314056396,\n  0.4958682358264923,\n  0.4958823025226593,\n  0.49588775634765625,\n  0.4959851801395416,\n  0.4958733022212982,\n  0.49593308568000793,\n  0.49599596858024597,\n  0.4958973228931427,\n  0.49591872096061707,\n  0.49595311284065247,\n  0.49592670798301697,\n  0.4959131181240082,\n  0.4958966076374054,\n  0.4958949685096741,\n  0.4959602653980255,\n  0.49586954712867737,\n  0.49588802456855774,\n  0.49640434980392456,\n  0.4960407316684723,\n  0.49596312642097473,\n  0.4961725175380707,\n  0.49593326449394226,\n  0.49609023332595825,\n  0.4958863854408264,\n  0.4960212707519531,\n  0.49613070487976074,\n  0.4959787428379059,\n  0.495980441570282,\n  0.4960941672325134,\n  0.49587440490722656,\n  0.4959948658943176,\n  0.4960136115550995,\n  0.49640166759490967,\n  0.49604910612106323,\n  0.4960726201534271,\n  0.495854914188385,\n  0.49627071619033813,\n  0.49591678380966187,\n  0.49680233001708984,\n  0.4960070550441742,\n  0.49590691924095154,\n  0.4959263205528259,\n  0.4958982467651367,\n  0.4959147274494171,\n  0.49600857496261597,\n  0.495900958776474,\n  0.49590545892715454,\n  0.49700728058815,\n  0.4960809051990509,\n  0.49645665287971497,\n  0.4960787892341614,\n  0.49625271558761597,\n  0.4959752559661865,\n  0.49637043476104736,\n  0.4959453344345093,\n  0.4959636628627777,\n  0.4963100552558899,\n  0.4961129426956177,\n  0.4959506094455719,\n  0.4959544241428375,\n  0.49596068263053894,\n  0.4959862232208252,\n  0.49593159556388855,\n  0.49597981572151184,\n  0.4959551692008972,\n  0.495962530374527,\n  0.4959522485733032]}"
          },
          "metadata": {}
        }
      ]
    },
    {
      "cell_type": "code",
      "source": [
        "plt.plot(history.history['loss'])\n",
        "plt.plot(history.history['val_loss'])"
      ],
      "metadata": {
        "execution": {
          "iopub.status.busy": "2024-09-02T18:01:27.572828Z",
          "iopub.execute_input": "2024-09-02T18:01:27.573275Z",
          "iopub.status.idle": "2024-09-02T18:01:27.812111Z",
          "shell.execute_reply.started": "2024-09-02T18:01:27.573236Z",
          "shell.execute_reply": "2024-09-02T18:01:27.810914Z"
        },
        "trusted": true,
        "id": "2eVu8buR6ynv",
        "outputId": "cb2dcfa8-900d-4c7a-86cd-d8c7bc0a2f92"
      },
      "execution_count": null,
      "outputs": [
        {
          "execution_count": 180,
          "output_type": "execute_result",
          "data": {
            "text/plain": "[<matplotlib.lines.Line2D at 0x79b6792c9e40>]"
          },
          "metadata": {}
        },
        {
          "output_type": "display_data",
          "data": {
            "text/plain": "<Figure size 640x480 with 1 Axes>",
            "image/png": "[encoded data removed]"
          },
          "metadata": {}
        }
      ]
    },
    {
      "cell_type": "code",
      "source": [
        "plt.plot(history.history['accuracy'])\n",
        "plt.plot(history.history['val_accuracy'])"
      ],
      "metadata": {
        "execution": {
          "iopub.status.busy": "2024-09-02T18:01:40.596263Z",
          "iopub.execute_input": "2024-09-02T18:01:40.596717Z",
          "iopub.status.idle": "2024-09-02T18:01:40.801956Z",
          "shell.execute_reply.started": "2024-09-02T18:01:40.596676Z",
          "shell.execute_reply": "2024-09-02T18:01:40.80092Z"
        },
        "trusted": true,
        "id": "uwbKtwxj6ynv",
        "outputId": "93f14722-02dc-49b8-f974-c5743ba4d51b"
      },
      "execution_count": null,
      "outputs": [
        {
          "execution_count": 181,
          "output_type": "execute_result",
          "data": {
            "text/plain": "[<matplotlib.lines.Line2D at 0x79b678900be0>]"
          },
          "metadata": {}
        },
        {
          "output_type": "display_data",
          "data": {
            "text/plain": "<Figure size 640x480 with 1 Axes>",
            "image/png": "[encoded data removed]"
          },
          "metadata": {}
        }
      ]
    },
    {
      "cell_type": "code",
      "source": [],
      "metadata": {
        "id": "dNtvBBaz6ynv"
      },
      "execution_count": null,
      "outputs": []
    }
  ]
}